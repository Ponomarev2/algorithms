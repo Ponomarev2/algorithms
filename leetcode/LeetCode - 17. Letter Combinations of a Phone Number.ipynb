{
 "cells": [
  {
   "cell_type": "code",
   "execution_count": null,
   "id": "7ba1b0fe",
   "metadata": {},
   "outputs": [],
   "source": [
    "class Solution:\n",
    "    def helper(self, arr1,arr2):\n",
    "        res = []\n",
    "        for i in arr1:\n",
    "            for j in arr2:\n",
    "                res.append(i+j)\n",
    "        return res\n",
    "        \n",
    "    \n",
    "    def letterCombinations(self, digits: str) -> List[str]:\n",
    "        if len(digits) == 0:\n",
    "            return []\n",
    "        letters = {'2':'abc', '3':'def','4':'ghi', '5':'jkl', '6':'mno','7':'pqrs','8':'tuv','9':'wxyz'}\n",
    "        res = list(letters[digits[0]])\n",
    "        for i in range(1, len(digits)):\n",
    "            res = self.helper(res, letters[digits[i]])\n",
    "        return res      "
   ]
  }
 ],
 "metadata": {
  "kernelspec": {
   "display_name": "Python 3 (ipykernel)",
   "language": "python",
   "name": "python3"
  },
  "language_info": {
   "codemirror_mode": {
    "name": "ipython",
    "version": 3
   },
   "file_extension": ".py",
   "mimetype": "text/x-python",
   "name": "python",
   "nbconvert_exporter": "python",
   "pygments_lexer": "ipython3",
   "version": "3.10.3"
  }
 },
 "nbformat": 4,
 "nbformat_minor": 5
}
