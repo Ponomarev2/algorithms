{
 "cells": [
  {
   "cell_type": "code",
   "execution_count": 4,
   "id": "408e58b6",
   "metadata": {},
   "outputs": [
    {
     "name": "stdout",
     "output_type": "stream",
     "text": [
      "········\n",
      "_)uyiT<*\u000f/-==ep!<9P)*,-T65\u0010ml`h'0scx\u0003kuxoR4<\u0018/!':'q56*P}!,0\u0017~0\u0012kby+u?<.!mi_0<\n",
      "m`bs60scx\u0003{h`eT2<\u0018/!':0v1;1P}!,0\u0017~*\u001d",
      "nh 1b0567\u0003.<,-@07]/p\n"
     ]
    }
   ],
   "source": [
    "\n",
    "#!/usr/bin/env python3\n",
    "\n",
    "from base64 import b64decode\n",
    "from getpass import getpass\n",
    "from itertools import cycle\n",
    "\n",
    "message = \"\"\"\n",
    "FkUaDwwNU0VFSkJTWkgJRFNXGUVFWkgNWVpaCAMODwpJFgwWSgcaDgoLW1NSSk5JXQoIUFlEGRFO\n",
    "WlVOEV9YDhAMHgYMWlMRQUJOGwwGX1NACA8MFBtJFgwWShcHFgANXVNSSk5JXR0PVFRfGRFOWlVO\n",
    "EUVXCwdOVk9JUFlZSkJTWkgZX1gXSh8=\n",
    "\"\"\"\n",
    "\n",
    "key = getpass()\n",
    "for m, k in zip(b64decode(message), cycle(key)):\n",
    "    print(chr(m ^ ord(k)), end=\"\")\n",
    "print()"
   ]
  },
  {
   "cell_type": "code",
   "execution_count": null,
   "id": "c0098dd5",
   "metadata": {},
   "outputs": [],
   "source": []
  }
 ],
 "metadata": {
  "kernelspec": {
   "display_name": "Python 3 (ipykernel)",
   "language": "python",
   "name": "python3"
  },
  "language_info": {
   "codemirror_mode": {
    "name": "ipython",
    "version": 3
   },
   "file_extension": ".py",
   "mimetype": "text/x-python",
   "name": "python",
   "nbconvert_exporter": "python",
   "pygments_lexer": "ipython3",
   "version": "3.10.3"
  }
 },
 "nbformat": 4,
 "nbformat_minor": 5
}
