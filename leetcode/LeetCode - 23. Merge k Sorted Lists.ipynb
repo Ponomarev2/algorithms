{
 "cells": [
  {
   "cell_type": "code",
   "execution_count": 21,
   "id": "7508c807",
   "metadata": {},
   "outputs": [],
   "source": [
    "# Definition for singly-linked list.\n",
    "class ListNode:\n",
    "    def __init__(self, val=0, next=None):\n",
    "        self.val = val\n",
    "        self.next = next\n",
    "\n",
    "        \n",
    "def merge(arrA, arrB):\n",
    "    res = []\n",
    "    i = 0\n",
    "    j = 0\n",
    "    while i < len(arrA) and j < len(arrB):\n",
    "        if arrA[i].val < arrB[j].val:\n",
    "            res.append(arrA[i])\n",
    "            i += 1\n",
    "        else:\n",
    "            res.append(arrB[j])\n",
    "            j += 1\n",
    "    \n",
    "    if i < len(arrA):\n",
    "        return res + arrA[i:]\n",
    "    elif j < len(arrB):\n",
    "        return res + arrB[j:]\n",
    "    else:\n",
    "        return res\n",
    "\n",
    "\n",
    "def mergeSort(nodes):\n",
    "    if len(nodes) == 2:\n",
    "        if nodes[0].val < nodes[1].val:\n",
    "            return nodes\n",
    "        else:\n",
    "            return nodes[::-1]\n",
    "    elif len(nodes) == 1:\n",
    "        if nodes[0] == None:\n",
    "            return []\n",
    "        else:\n",
    "            return nodes\n",
    "    elif len(nodes) < 1:\n",
    "        return []\n",
    "    else:\n",
    "        return merge(mergeSort(nodes[:len(nodes)//2]), mergeSort(nodes[len(nodes)//2:]))\n",
    "\n",
    "    \n",
    "def binInsert(nodes, x):\n",
    "    if x == None:\n",
    "        return nodes\n",
    "    \n",
    "    if x.val < nodes[0].val:\n",
    "        return [x] + nodes\n",
    "    \n",
    "    top = len(nodes)\n",
    "    bot = 0\n",
    "    mid = (bot + top) // 2\n",
    "    while (bot + 1) < top:\n",
    "        if x.val < nodes[mid].val:\n",
    "            top = mid\n",
    "        else:\n",
    "            bot = mid\n",
    "        mid = (bot + top) // 2\n",
    "        \n",
    "    return nodes[:mid + 1] + [x] + nodes[mid + 1:]"
   ]
  },
  {
   "cell_type": "code",
   "execution_count": 5,
   "id": "090c5b79",
   "metadata": {},
   "outputs": [],
   "source": [
    "def foo(nodes):\n",
    "    if len(nodes) == 0:\n",
    "        return None\n",
    "    node_min = nodes.pop(0)\n",
    "    nodes = insertAscList(nodes, node_min.next)\n",
    "    root = node_min\n",
    "    root.next = foo(nodes)\n",
    "    return root\n",
    "    \n",
    "def solution(lists):\n",
    "    nodes_sorted = mergeSort(lists)\n",
    "    return foo(nodes_sorted)"
   ]
  },
  {
   "cell_type": "code",
   "execution_count": 6,
   "id": "b10c4c9b",
   "metadata": {},
   "outputs": [],
   "source": [
    "def printLinkedList(root):\n",
    "    if root == None:\n",
    "        print('None')\n",
    "    else:\n",
    "        print(root.val)\n",
    "        printLinkedList(root.next)"
   ]
  },
  {
   "cell_type": "code",
   "execution_count": 7,
   "id": "740c2ce6",
   "metadata": {},
   "outputs": [],
   "source": [
    "a = ListNode(1, ListNode(3, ListNode(4)))\n",
    "b = ListNode(3, ListNode(3, ListNode(5)))\n",
    "c = ListNode(2, ListNode(2, ListNode(3)))"
   ]
  },
  {
   "cell_type": "code",
   "execution_count": 8,
   "id": "35a37e7c",
   "metadata": {},
   "outputs": [
    {
     "name": "stdout",
     "output_type": "stream",
     "text": [
      "1\n",
      "3\n",
      "4\n",
      "None\n"
     ]
    }
   ],
   "source": [
    "res = merge(mergeSort([a, b]), mergeSort([c]))\n",
    "printLinkedList(res[0])"
   ]
  },
  {
   "cell_type": "code",
   "execution_count": 9,
   "id": "0b1abc7d",
   "metadata": {},
   "outputs": [
    {
     "name": "stdout",
     "output_type": "stream",
     "text": [
      "1\n",
      "2\n",
      "3\n"
     ]
    }
   ],
   "source": [
    "# for elem in mergeSort([c]):\n",
    "#     print(elem.val)\n",
    "    \n",
    "# for elem in mergeSort([a, b]):\n",
    "#     print(elem.val)\n",
    "    \n",
    "for elem in merge(mergeSort([a, b]), mergeSort([c])):\n",
    "    print(elem.val)"
   ]
  },
  {
   "cell_type": "code",
   "execution_count": 28,
   "id": "99d34304",
   "metadata": {},
   "outputs": [],
   "source": [
    "asc = merge(mergeSort([a, b]), mergeSort([c]))\n",
    "asc = binInsert(asc, ListNode(4.5, None))\n"
   ]
  },
  {
   "cell_type": "code",
   "execution_count": 33,
   "id": "9e824432",
   "metadata": {},
   "outputs": [
    {
     "name": "stdout",
     "output_type": "stream",
     "text": [
      "1\n",
      "2\n",
      "3\n",
      "3.5\n",
      "4.5\n"
     ]
    }
   ],
   "source": [
    "#asc = merge(mergeSort([a, b]), mergeSort([c]))\n",
    "for elem in binInsert(asc, ListNode(3.5, None)):\n",
    "    print(elem.val)    "
   ]
  },
  {
   "cell_type": "code",
   "execution_count": 17,
   "id": "ed237daa",
   "metadata": {},
   "outputs": [
    {
     "name": "stdout",
     "output_type": "stream",
     "text": [
      "1\n",
      "2\n",
      "3\n",
      "3\n",
      "4\n",
      "5\n",
      "None\n"
     ]
    }
   ],
   "source": [
    "printLinkedList(solution(lists))"
   ]
  },
  {
   "cell_type": "code",
   "execution_count": 18,
   "id": "9c21f34b",
   "metadata": {},
   "outputs": [
    {
     "name": "stdout",
     "output_type": "stream",
     "text": [
      "[1]\n"
     ]
    }
   ],
   "source": [
    "l = [1,2,3]\n",
    "\n",
    "print(l[:1])"
   ]
  },
  {
   "cell_type": "code",
   "execution_count": null,
   "id": "6dfbd2ed",
   "metadata": {},
   "outputs": [],
   "source": []
  }
 ],
 "metadata": {
  "kernelspec": {
   "display_name": "Python 3 (ipykernel)",
   "language": "python",
   "name": "python3"
  },
  "language_info": {
   "codemirror_mode": {
    "name": "ipython",
    "version": 3
   },
   "file_extension": ".py",
   "mimetype": "text/x-python",
   "name": "python",
   "nbconvert_exporter": "python",
   "pygments_lexer": "ipython3",
   "version": "3.10.3"
  }
 },
 "nbformat": 4,
 "nbformat_minor": 5
}
