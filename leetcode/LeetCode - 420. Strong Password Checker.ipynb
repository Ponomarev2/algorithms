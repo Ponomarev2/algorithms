{
 "cells": [
  {
   "cell_type": "code",
   "execution_count": null,
   "id": "b5504ae7",
   "metadata": {},
   "outputs": [],
   "source": [
    "class Solution:\n",
    "    def strongPasswordChecker(self, s: str):\n",
    "        lenght = len(s)\n",
    "        lenght_test = 0\n",
    "        lowercase_test = 1\n",
    "        uppercase_test = 1\n",
    "        digit_test = 1\n",
    "        row3_test = 0\n",
    "        row_test = 0\n",
    "        if lenght < 6:\n",
    "            lenght_test = lenght - 6\n",
    "        if lenght > 20:\n",
    "            lenght_test = lenght - 20\n",
    "        j = 0\n",
    "        for i in range(lenght):\n",
    "            if j < lenght:\n",
    "                if j + 2 < lenght:\n",
    "                    if s[j] == s[j+1] and s[j+1] == s[j+2]:\n",
    "                        j += 2\n",
    "                        row_test += 1\n",
    "                j += 1\n",
    "            if i+2 < lenght:\n",
    "                if s[i] == s[i+1] and s[i+1] == s[i+2]:\n",
    "                    row3_test += 1\n",
    "            if s[i] in 'abcdefghijklmnopqrstuvwxyz' and lowercase_test == 1:\n",
    "                lowercase_test = 0\n",
    "            if s[i] in 'ABCDEFGHIJKLMNOPQRSTUVWXYZ' and uppercase_test == 1:\n",
    "                uppercase_test = 0\n",
    "            if s[i] in '0123456789' and digit_test == 1:\n",
    "                digit_test = 0\n",
    "        s3 = digit_test + lowercase_test + uppercase_test\n",
    "        if lenght_test < 0:\n",
    "            return(max(s3,(row3_test+1)//2,-lenght_test))\n",
    "        elif lenght_test > 0:\n",
    "            row3_test -= lenght_test\n",
    "            row_test -= lenght_test\n",
    "            if row3_test < 3:\n",
    "                return(lenght_test+max(s3,(row3_test+2)//3, row_test))\n",
    "            else:\n",
    "                return(lenght_test+max(s3,(row3_test)//3, row_test))\n",
    "        else:\n",
    "            return(max(row_test,row3_test//3,s3))"
   ]
  }
 ],
 "metadata": {
  "kernelspec": {
   "display_name": "Python 3 (ipykernel)",
   "language": "python",
   "name": "python3"
  },
  "language_info": {
   "codemirror_mode": {
    "name": "ipython",
    "version": 3
   },
   "file_extension": ".py",
   "mimetype": "text/x-python",
   "name": "python",
   "nbconvert_exporter": "python",
   "pygments_lexer": "ipython3",
   "version": "3.10.3"
  }
 },
 "nbformat": 4,
 "nbformat_minor": 5
}
