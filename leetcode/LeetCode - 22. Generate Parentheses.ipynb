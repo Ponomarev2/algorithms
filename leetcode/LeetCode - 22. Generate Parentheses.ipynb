{
 "cells": [
  {
   "cell_type": "code",
   "execution_count": null,
   "id": "3ce42224",
   "metadata": {},
   "outputs": [],
   "source": [
    "def foo(n, slovar):\n",
    "    if n in slovar.keys():\n",
    "        return slovar[n]\n",
    "    \n",
    "    res = []\n",
    "    for k in range(1, n//2 + 1):\n",
    "        for left in foo(k, slovar):\n",
    "            for right in foo(n-k, slovar):\n",
    "                res.append(left + right)\n",
    "                res.append(right + left)\n",
    "    \n",
    "    for elem_k in slovar[n-1]:\n",
    "        res.append('(' + elem_k + ')')\n",
    "\n",
    "    slovar[n] = res\n",
    "    return res\n",
    "\n",
    "\n",
    "        \n",
    "\n",
    "class Solution:\n",
    "    def generateParenthesis(self, n: int) -> List[str]:\n",
    "        return list(set(foo(n, { 1: ['()'] })))"
   ]
  },
  {
   "cell_type": "code",
   "execution_count": 4,
   "id": "2961de2a",
   "metadata": {},
   "outputs": [
    {
     "data": {
      "text/plain": [
       "['(())()(())', '(()())(())', '(())((()))', '(())(()())', '((()))(())']"
      ]
     },
     "execution_count": 4,
     "metadata": {},
     "output_type": "execute_result"
    }
   ],
   "source": [
    "a = [\"(((())))()\",\"(()(())())\",\"((()))()()\",\"()(()(()))\",\"(()(()))()\",\"(()()()())\",\"()((()()))\",\"()(((())))\",\"()(())(())\",\"()(()()())\",\"((((()))))\",\"(()((())))\",\"()()()(())\",\"(((()))())\",\"(()()())()\",\"((()())())\",\"()((()))()\",\"(((())()))\",\"((())()())\",\"(()()(()))\",\"()()(()())\",\"()(()())()\",\"((()()))()\",\"()()(())()\",\"()()()()()\",\"(())(())()\",\"(()(()()))\",\"(())()()()\",\"((()()()))\",\"()()((()))\",\"((())())()\",\"(()())()()\",\"((()(())))\",\"()((())())\",\"(((()())))\",\"()(())()()\",\"((())(()))\"]\n",
    "exp = [\"((((()))))\",\"(((()())))\",\"(((())()))\",\"(((()))())\",\"(((())))()\",\"((()(())))\",\"((()()()))\",\"((()())())\",\"((()()))()\",\"((())(()))\",\"((())()())\",\"((())())()\",\"((()))(())\",\"((()))()()\",\"(()((())))\",\"(()(()()))\",\"(()(())())\",\"(()(()))()\",\"(()()(()))\",\"(()()()())\",\"(()()())()\",\"(()())(())\",\"(()())()()\",\"(())((()))\",\"(())(()())\",\"(())(())()\",\"(())()(())\",\"(())()()()\",\"()(((())))\",\"()((()()))\",\"()((())())\",\"()((()))()\",\"()(()(()))\",\"()(()()())\",\"()(()())()\",\"()(())(())\",\"()(())()()\",\"()()((()))\",\"()()(()())\",\"()()(())()\",\"()()()(())\",\"()()()()()\"]\n",
    "\n",
    "list(set(exp) - set(a) )\n"
   ]
  },
  {
   "cell_type": "code",
   "execution_count": 5,
   "id": "8a140a00",
   "metadata": {},
   "outputs": [
    {
     "name": "stdout",
     "output_type": "stream",
     "text": [
      "123\n"
     ]
    }
   ],
   "source": [
    "slovar = {0: [''], 1: ['()'] }\n",
    "if 1 in slovar.keys():\n",
    "    print(123)"
   ]
  },
  {
   "cell_type": "code",
   "execution_count": null,
   "id": "adb366ad",
   "metadata": {},
   "outputs": [],
   "source": [
    "def foo(n, slovar):\n",
    "    if n in slovar.keys():\n",
    "        return slovar[n]\n",
    "    \n",
    "    res = []\n",
    "    for k in range(n):\n",
    "        for left in foo(k, slovar):\n",
    "            for right in foo(n-k-1, slovar):\n",
    "                res.append('({}){}'.format(left, right))\n",
    "\n",
    "\n",
    "    slovar[n] = res\n",
    "    return res\n",
    "\n",
    "\n",
    "        \n",
    "\n",
    "class Solution:\n",
    "    def generateParenthesis(self, n: int) -> List[str]:\n",
    "        return foo(n, {0: [''], 1: ['()'] })"
   ]
  }
 ],
 "metadata": {
  "kernelspec": {
   "display_name": "Python 3 (ipykernel)",
   "language": "python",
   "name": "python3"
  },
  "language_info": {
   "codemirror_mode": {
    "name": "ipython",
    "version": 3
   },
   "file_extension": ".py",
   "mimetype": "text/x-python",
   "name": "python",
   "nbconvert_exporter": "python",
   "pygments_lexer": "ipython3",
   "version": "3.10.3"
  }
 },
 "nbformat": 4,
 "nbformat_minor": 5
}
