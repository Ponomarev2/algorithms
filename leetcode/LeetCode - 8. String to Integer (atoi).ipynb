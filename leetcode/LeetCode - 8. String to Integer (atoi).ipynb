{
 "cells": [
  {
   "cell_type": "code",
   "execution_count": null,
   "id": "595c15cd",
   "metadata": {},
   "outputs": [],
   "source": [
    "class Solution:\n",
    "    def myAtoi(self, s: str) -> int:\n",
    "        legitSymbols = [' ', '-', '+', '0', '1', '2', '3', '4', '5', '6', '7', '8', '9']\n",
    "        res = 0\n",
    "        digits = ''\n",
    "        sign = 0\n",
    "        for c in s:\n",
    "            if c not in legitSymbols:\n",
    "                break\n",
    "            elif c == ' ':\n",
    "                if digits == '' and sign == 0:\n",
    "                    continue\n",
    "                else:\n",
    "                    break\n",
    "            elif c == '-':\n",
    "                if sign == 0 and digits == '':\n",
    "                    sign = -1\n",
    "                else:\n",
    "                    break\n",
    "            elif c == '+':\n",
    "                if sign == 0 and digits == '':\n",
    "                    sign = 1\n",
    "                else:\n",
    "                    break\n",
    "            else:\n",
    "                digits += c\n",
    "        \n",
    "        print(digits)\n",
    "        \n",
    "        if digits == '':\n",
    "            return 0\n",
    "\n",
    "        for i in range(len(digits)):\n",
    "            res += 10**i * int(digits[-i - 1])\n",
    "        \n",
    "        if sign < 0:\n",
    "            res *= -1\n",
    "        \n",
    "  \n",
    "        if res < 2147483647:\n",
    "            if res > -2147483648:\n",
    "                return res\n",
    "            else:\n",
    "                return -2147483648\n",
    "        else:\n",
    "            return 2147483647"
   ]
  }
 ],
 "metadata": {
  "kernelspec": {
   "display_name": "Python 3 (ipykernel)",
   "language": "python",
   "name": "python3"
  },
  "language_info": {
   "codemirror_mode": {
    "name": "ipython",
    "version": 3
   },
   "file_extension": ".py",
   "mimetype": "text/x-python",
   "name": "python",
   "nbconvert_exporter": "python",
   "pygments_lexer": "ipython3",
   "version": "3.10.3"
  }
 },
 "nbformat": 4,
 "nbformat_minor": 5
}
