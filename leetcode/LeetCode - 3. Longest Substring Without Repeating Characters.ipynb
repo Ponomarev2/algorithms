{
 "cells": [
  {
   "cell_type": "code",
   "execution_count": null,
   "id": "b98bde82",
   "metadata": {},
   "outputs": [],
   "source": [
    "class Solution:\n",
    "    def lengthOfLongestSubstring(self, s: str) -> int:\n",
    "        str0 = []\n",
    "        m = 0\n",
    "        for i in s:\n",
    "            if i in str0:\n",
    "                m = max(m,len(str0))\n",
    "                str0 = str0[str0.index(i)+1:]\n",
    "                str0.append(i)\n",
    "            else:\n",
    "                str0.append(i)\n",
    "\n",
    "        m = max(m,len(str0))\n",
    "\n",
    "        return m"
   ]
  }
 ],
 "metadata": {
  "kernelspec": {
   "display_name": "Python 3 (ipykernel)",
   "language": "python",
   "name": "python3"
  },
  "language_info": {
   "codemirror_mode": {
    "name": "ipython",
    "version": 3
   },
   "file_extension": ".py",
   "mimetype": "text/x-python",
   "name": "python",
   "nbconvert_exporter": "python",
   "pygments_lexer": "ipython3",
   "version": "3.10.3"
  }
 },
 "nbformat": 4,
 "nbformat_minor": 5
}
