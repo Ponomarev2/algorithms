{
 "cells": [
  {
   "cell_type": "code",
   "execution_count": 23,
   "id": "49754fa4",
   "metadata": {},
   "outputs": [],
   "source": [
    "def int2base(x, base):\n",
    "    digs = list(range(10))\n",
    "    if x == 0:\n",
    "        return '0'\n",
    "    digits = []\n",
    "\n",
    "    while x:\n",
    "        digits.append(digs[int(x % base)])\n",
    "        x = int(x / base)\n",
    "    digits.reverse()\n",
    "\n",
    "    return ''.join(digits)\n",
    "\n",
    "\n",
    "def solution(n, base, history = []):\n",
    "    if n in history:\n",
    "        return len(history) - history.index(n)\n",
    "    history.append(n) \n",
    "    \n",
    "    k = len(n)\n",
    "    y = ''.join(sorted(n))\n",
    "    x = y[::-1]\n",
    "    zInt = int(x, base) - int(y, base)\n",
    "    z = int2base(zInt, base)\n",
    "    z = '0'*(k - len(z)) + z\n",
    "    \n",
    "    return solution(z, base, history)\n",
    "    "
   ]
  },
  {
   "cell_type": "code",
   "execution_count": 39,
   "id": "1fc14890",
   "metadata": {},
   "outputs": [
    {
     "data": {
      "text/plain": [
       "1"
      ]
     },
     "execution_count": 39,
     "metadata": {},
     "output_type": "execute_result"
    }
   ],
   "source": [
    "solution('1211', 10)"
   ]
  },
  {
   "cell_type": "code",
   "execution_count": 37,
   "id": "9a60c3a3",
   "metadata": {},
   "outputs": [
    {
     "data": {
      "text/plain": [
       "1"
      ]
     },
     "execution_count": 37,
     "metadata": {},
     "output_type": "execute_result"
    }
   ],
   "source": [
    "history = [3,0]\n",
    "n = 0\n",
    "len(history) - history.index(n)"
   ]
  },
  {
   "cell_type": "code",
   "execution_count": 31,
   "id": "da51da91",
   "metadata": {},
   "outputs": [
    {
     "data": {
      "text/plain": [
       "('22221', '12222', '03333')"
      ]
     },
     "execution_count": 31,
     "metadata": {},
     "output_type": "execute_result"
    }
   ],
   "source": [
    "n = '21222'\n",
    "k = len(n)\n",
    "y = ''.join(sorted(n))\n",
    "x = y[::-1]\n",
    "base = 4\n",
    "zInt = int(x, base) - int(y, base)\n",
    "z = int2base(zInt, base)\n",
    "z = '0'*(k - len(z)) + z\n",
    "x, y, z"
   ]
  },
  {
   "cell_type": "code",
   "execution_count": 16,
   "id": "7acbedfa",
   "metadata": {},
   "outputs": [
    {
     "data": {
      "text/plain": [
       "111"
      ]
     },
     "execution_count": 16,
     "metadata": {},
     "output_type": "execute_result"
    }
   ],
   "source": [
    "int(x, 4)"
   ]
  },
  {
   "cell_type": "code",
   "execution_count": null,
   "id": "75f99ba1",
   "metadata": {},
   "outputs": [],
   "source": []
  }
 ],
 "metadata": {
  "kernelspec": {
   "display_name": "Python 3 (ipykernel)",
   "language": "python",
   "name": "python3"
  },
  "language_info": {
   "codemirror_mode": {
    "name": "ipython",
    "version": 3
   },
   "file_extension": ".py",
   "mimetype": "text/x-python",
   "name": "python",
   "nbconvert_exporter": "python",
   "pygments_lexer": "ipython3",
   "version": "3.10.3"
  }
 },
 "nbformat": 4,
 "nbformat_minor": 5
}
