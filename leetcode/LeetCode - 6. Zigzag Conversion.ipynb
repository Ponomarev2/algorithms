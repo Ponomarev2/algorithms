{
 "cells": [
  {
   "cell_type": "code",
   "execution_count": null,
   "id": "393cdf24",
   "metadata": {},
   "outputs": [],
   "source": [
    "class Solution:\n",
    "    def convert(self, s: str, numRows: int) -> str:\n",
    "        if numRows == 1:\n",
    "            return s\n",
    "        rows = []\n",
    "        for r in range(numRows):\n",
    "            rows.append([])\n",
    "        i =  0\n",
    "        curRow = 0\n",
    "        direction = '->'\n",
    "        while i < len(s):\n",
    "            rows[curRow].append(s[i])  \n",
    "            if direction == '->':\n",
    "                curRow += 1\n",
    "            else:\n",
    "                curRow -= 1\n",
    "                \n",
    "            if curRow == numRows - 1:\n",
    "                direction = '<-'\n",
    "            elif curRow == 0:\n",
    "                direction = '->'    \n",
    "            \n",
    "            i += 1\n",
    "        \n",
    "        res = ''\n",
    "        for row in rows:\n",
    "            res += ''.join(row)\n",
    "        \n",
    "        return res\n",
    "        \n",
    "            \n",
    "            "
   ]
  }
 ],
 "metadata": {
  "kernelspec": {
   "display_name": "Python 3 (ipykernel)",
   "language": "python",
   "name": "python3"
  },
  "language_info": {
   "codemirror_mode": {
    "name": "ipython",
    "version": 3
   },
   "file_extension": ".py",
   "mimetype": "text/x-python",
   "name": "python",
   "nbconvert_exporter": "python",
   "pygments_lexer": "ipython3",
   "version": "3.10.3"
  }
 },
 "nbformat": 4,
 "nbformat_minor": 5
}
