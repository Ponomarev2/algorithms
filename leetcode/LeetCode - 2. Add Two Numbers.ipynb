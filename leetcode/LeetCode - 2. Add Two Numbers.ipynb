{
 "cells": [
  {
   "cell_type": "code",
   "execution_count": null,
   "id": "c5468dce",
   "metadata": {},
   "outputs": [],
   "source": [
    "# Definition for singly-linked list.\n",
    "# class ListNode:\n",
    "#     def __init__(self, x):\n",
    "#         self.val = x\n",
    "#         self.next = None\n",
    "\n",
    "class Solution:\n",
    "    def addTwoNumbers(self, l1, l2):\n",
    "        c = 0\n",
    "        d = 0\n",
    "        b = 0\n",
    "        lis1 = []\n",
    "        lis2 = []\n",
    "        while True:\n",
    "            try:\n",
    "                b = l1.val\n",
    "                l1 = l1.next\n",
    "                lis1.append(b)\n",
    "            except:\n",
    "                lis1.reverse()\n",
    "                break\n",
    "        while True:\n",
    "            try:\n",
    "                b = l2.val\n",
    "                l2 = l2.next\n",
    "                lis2.append(b)\n",
    "            except:\n",
    "                lis2.reverse()\n",
    "                break     \n",
    "        for i in lis1:\n",
    "            c = c*10 + i\n",
    "        for i in lis2:\n",
    "            d = d*10 + i\n",
    "        sum12 = c+d\n",
    "        lis12 = []\n",
    "        i = 0\n",
    "        while i == 0:\n",
    "            lis12.append(sum12%10)\n",
    "            sum12 =sum12//10\n",
    "            if sum12 == 0:\n",
    "                i = 1\n",
    "        return lis12           \n",
    "        "
   ]
  }
 ],
 "metadata": {
  "kernelspec": {
   "display_name": "Python 3 (ipykernel)",
   "language": "python",
   "name": "python3"
  },
  "language_info": {
   "codemirror_mode": {
    "name": "ipython",
    "version": 3
   },
   "file_extension": ".py",
   "mimetype": "text/x-python",
   "name": "python",
   "nbconvert_exporter": "python",
   "pygments_lexer": "ipython3",
   "version": "3.10.3"
  }
 },
 "nbformat": 4,
 "nbformat_minor": 5
}
