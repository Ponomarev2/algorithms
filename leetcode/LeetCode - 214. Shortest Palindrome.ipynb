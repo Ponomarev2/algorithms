{
 "cells": [
  {
   "cell_type": "code",
   "execution_count": null,
   "id": "9c774b46",
   "metadata": {},
   "outputs": [],
   "source": [
    "class Solution:\n",
    "    def shortestPalindrome(self, s: str) -> str:\n",
    "        if not s or len(s) == 1: return s\n",
    "        j = 0   \n",
    "        for i in reversed(range(len(s))):\n",
    "            if s[i] == s[j]:\n",
    "                j += 1        \n",
    "        return s[j:][::-1] + self.shortestPalindrome(s[:j-len(s)]) + s[j-len(s):]\n"
   ]
  }
 ],
 "metadata": {
  "kernelspec": {
   "display_name": "Python 3 (ipykernel)",
   "language": "python",
   "name": "python3"
  },
  "language_info": {
   "codemirror_mode": {
    "name": "ipython",
    "version": 3
   },
   "file_extension": ".py",
   "mimetype": "text/x-python",
   "name": "python",
   "nbconvert_exporter": "python",
   "pygments_lexer": "ipython3",
   "version": "3.10.3"
  }
 },
 "nbformat": 4,
 "nbformat_minor": 5
}
