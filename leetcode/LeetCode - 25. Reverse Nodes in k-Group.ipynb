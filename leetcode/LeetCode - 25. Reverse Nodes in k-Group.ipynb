{
 "cells": [
  {
   "cell_type": "code",
   "execution_count": null,
   "id": "3e966661",
   "metadata": {},
   "outputs": [],
   "source": [
    "# Definition for singly-linked list.\n",
    "# class ListNode:\n",
    "#     def __init__(self, val=0, next=None):\n",
    "#         self.val = val\n",
    "#         self.next = next\n",
    "\n",
    "def reverse(cur, prev, k):\n",
    "    cur = cur\n",
    "    prev = prev\n",
    "    for _ in range(k):\n",
    "        nxt = cur.next\n",
    "        cur.next = prev\n",
    "        prev = cur\n",
    "        cur = nxt\n",
    "    return prev\n",
    "\n",
    "class Solution:\n",
    "    def reverseKGroup(self, head: ListNode, k: int) -> ListNode:        \n",
    "        if head == None:\n",
    "            return head\n",
    "        prev = None\n",
    "        cur = head\n",
    "        for i in range(k):\n",
    "            if cur == None:\n",
    "                return reverse(prev, cur, i)\n",
    "            else:    \n",
    "                nxt = cur.next\n",
    "                cur.next = prev\n",
    "                prev = cur\n",
    "                cur = nxt\n",
    "        head.next = self.reverseKGroup(cur, k)\n",
    "        return prev\n"
   ]
  }
 ],
 "metadata": {
  "kernelspec": {
   "display_name": "Python 3 (ipykernel)",
   "language": "python",
   "name": "python3"
  },
  "language_info": {
   "codemirror_mode": {
    "name": "ipython",
    "version": 3
   },
   "file_extension": ".py",
   "mimetype": "text/x-python",
   "name": "python",
   "nbconvert_exporter": "python",
   "pygments_lexer": "ipython3",
   "version": "3.10.3"
  }
 },
 "nbformat": 4,
 "nbformat_minor": 5
}
