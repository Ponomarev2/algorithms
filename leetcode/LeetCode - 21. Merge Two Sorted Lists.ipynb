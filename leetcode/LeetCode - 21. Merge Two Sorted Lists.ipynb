{
 "cells": [
  {
   "cell_type": "code",
   "execution_count": null,
   "id": "11e26b44",
   "metadata": {},
   "outputs": [],
   "source": [
    "# Definition for singly-linked list.\n",
    "class ListNode:\n",
    "    def __init__(self, val=0, next=None):\n",
    "        self.val = val\n",
    "        self.next = next\n",
    "\n",
    "\n",
    "def foo(cur, list1, list2):\n",
    "    if list1 == None:\n",
    "        cur.next = list2\n",
    "        return\n",
    "    elif list2 == None:\n",
    "        cur.next = list1\n",
    "        return \n",
    "\n",
    "    if list1.val < list2.val:\n",
    "        cur.next = list1\n",
    "        foo(cur.next, list1.next, list2)\n",
    "    else:\n",
    "        cur.next = list2\n",
    "        foo(cur.next, list1, list2.next)\n",
    "\n",
    "\n",
    "class Solution:\n",
    "    def mergeTwoLists(self, list1: Optional[ListNode], list2: Optional[ListNode]) -> Optional[ListNode]:\n",
    "        cur = ListNode(0)\n",
    "        head = cur\n",
    "        foo(cur, list1, list2)\n",
    "        return head.next"
   ]
  }
 ],
 "metadata": {
  "kernelspec": {
   "display_name": "Python 3 (ipykernel)",
   "language": "python",
   "name": "python3"
  },
  "language_info": {
   "codemirror_mode": {
    "name": "ipython",
    "version": 3
   },
   "file_extension": ".py",
   "mimetype": "text/x-python",
   "name": "python",
   "nbconvert_exporter": "python",
   "pygments_lexer": "ipython3",
   "version": "3.10.3"
  }
 },
 "nbformat": 4,
 "nbformat_minor": 5
}
