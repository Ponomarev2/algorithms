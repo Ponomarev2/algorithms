{
 "cells": [
  {
   "cell_type": "markdown",
   "id": "877e32a2",
   "metadata": {},
   "source": [
    "Bomb, Baby!\n",
    "===========\n",
    "\n",
    "You're so close to destroying the LAMBCHOP doomsday device you can taste it! But in order to do so, you need to deploy special self-replicating bombs designed for you by the brightest scientists on Bunny Planet. There are two types: Mach bombs (M) and Facula bombs (F). The bombs, once released into the LAMBCHOP's inner workings, will automatically deploy to all the strategic points you've identified and destroy them at the same time. \n",
    "\n",
    "But there's a few catches. First, the bombs self-replicate via one of two distinct processes: \n",
    "Every Mach bomb retrieves a sync unit from a Facula bomb; for every Mach bomb, a Facula bomb is created;\n",
    "Every Facula bomb spontaneously creates a Mach bomb.\n",
    "\n",
    "For example, if you had 3 Mach bombs and 2 Facula bombs, they could either produce 3 Mach bombs and 5 Facula bombs, or 5 Mach bombs and 2 Facula bombs. The replication process can be changed each cycle. \n",
    "\n",
    "Second, you need to ensure that you have exactly the right number of Mach and Facula bombs to destroy the LAMBCHOP device. Too few, and the device might survive. Too many, and you might overload the mass capacitors and create a singularity at the heart of the space station - not good! \n",
    "\n",
    "And finally, you were only able to smuggle one of each type of bomb - one Mach, one Facula - aboard the ship when you arrived, so that's all you have to start with. (Thus it may be impossible to deploy the bombs to destroy the LAMBCHOP, but that's not going to stop you from trying!) \n",
    "\n",
    "You need to know how many replication cycles (generations) it will take to generate the correct amount of bombs to destroy the LAMBCHOP. Write a function solution(M, F) where M and F are the number of Mach and Facula bombs needed. Return the fewest number of generations (as a string) that need to pass before you'll have the exact number of bombs necessary to destroy the LAMBCHOP, or the string \"impossible\" if this can't be done! M and F will be string representations of positive integers no larger than 10^50. For example, if M = \"2\" and F = \"1\", one generation would need to pass, so the solution would be \"1\". However, if M = \"2\" and F = \"4\", it would not be possible.\n",
    "\n",
    "Languages\n",
    "=========\n",
    "\n",
    "To provide a Java solution, edit Solution.java\n",
    "To provide a Python solution, edit solution.py\n",
    "\n",
    "Test cases\n",
    "==========\n",
    "Your code should pass the following test cases.\n",
    "Note that it may also be run against hidden test cases not shown here.\n",
    "\n",
    "-- Java cases --\n",
    "Input:\n",
    "Solution.solution('2', '1')\n",
    "Output:\n",
    "    1\n",
    "\n",
    "Input:\n",
    "Solution.solution('4', '7')\n",
    "Output:\n",
    "    4\n",
    "\n",
    "-- Python cases --\n",
    "Input:\n",
    "solution.solution('4', '7')\n",
    "Output:\n",
    "    4\n",
    "\n",
    "Input:\n",
    "solution.solution('2', '1')\n",
    "Output:\n",
    "    1"
   ]
  },
  {
   "cell_type": "code",
   "execution_count": 4,
   "id": "a25d54a8",
   "metadata": {},
   "outputs": [],
   "source": [
    "from collections import defaultdict\n",
    "\n",
    "class solver():\n",
    "    def __init__(self, M, F):\n",
    "        self.d = defaultdict(lambda: -1)\n",
    "        self.M = int(M)\n",
    "        self.F = int(F)\n",
    "\n",
    "    def search(self, mi, fi, step):\n",
    "        if mi > self.M or fi > self.F:\n",
    "            return\n",
    "        if self.d[(mi,fi)] != -1:\n",
    "            self.d[(mi,fi)] = min(step, self.d[(mi,fi)])\n",
    "        else:\n",
    "            self.d[(mi,fi)] = step\n",
    "\n",
    "        self.search(mi+fi, fi, step+1)\n",
    "        self.search(mi, fi+mi, step+1)\n",
    "        return\n",
    "\n",
    "    def getRes(self):\n",
    "        if ((self.M - 1) % self.F != 0) and ((self.F - 1) % self.M != 0):\n",
    "            return 'impossible'\n",
    "        self.search(1, 1, 0)\n",
    "        if self.d[(self.M,self.F)] == -1:\n",
    "            return 'impossible'\n",
    "        else:\n",
    "            return str(self.d[(self.M,self.F)] )"
   ]
  },
  {
   "cell_type": "code",
   "execution_count": 5,
   "id": "ae645050",
   "metadata": {},
   "outputs": [
    {
     "data": {
      "text/plain": [
       "'impossible'"
      ]
     },
     "execution_count": 5,
     "metadata": {},
     "output_type": "execute_result"
    }
   ],
   "source": [
    "s = solver('4','7')\n",
    "res = s.getRes()\n",
    "res"
   ]
  },
  {
   "cell_type": "code",
   "execution_count": 5,
   "id": "87ccf001",
   "metadata": {},
   "outputs": [],
   "source": [
    "import numpy as np\n",
    "\n",
    "class solver2():\n",
    "    def __init__(self, M, F):\n",
    "        self.M = int(M)\n",
    "        self.F = int(F)\n",
    "        self.dim = max(self.M, self.F)\n",
    "        self.matrix = np.zeros([self.dim+1, self.dim+1], int)\n",
    "        self.matrix[0] = np.arange(self.dim+1)\n",
    "        self.matrix[:,0] = np.arange(self.dim+1)\n",
    "        \n",
    "\n",
    "    def search(self, mi, fi, step):\n",
    "        if mi > self.dim or fi > self.dim:\n",
    "            return\n",
    "        if self.matrix[mi,fi] != 0:\n",
    "            self.matrix[mi,fi] = -1\n",
    "        else:\n",
    "            self.matrix[mi,fi] = step\n",
    "\n",
    "        self.search(mi+fi, fi, step+1)\n",
    "        self.search(mi, fi+mi, step+1)\n",
    "        return\n",
    "    \n",
    "    def getMatrix(self):\n",
    "        self.search(1, 1, 0)\n",
    "        return self.matrix\n",
    "    \n",
    "    def getRes(self):\n",
    "        self.search(1, 1, 0)\n",
    "        if self.d[(self.M,self.F)] == -1:\n",
    "            return 'impossible'\n",
    "        else:\n",
    "            return str(self.d[(self.M,self.F)] )"
   ]
  },
  {
   "cell_type": "code",
   "execution_count": 6,
   "id": "8fdbe5fa",
   "metadata": {},
   "outputs": [
    {
     "data": {
      "text/plain": [
       "array([[ 0,  1,  2,  3,  4,  5,  6,  7,  8,  9, 10, 11, 12, 13, 14, 15,\n",
       "        16, 17, 18, 19, 20, 21, 22],\n",
       "       [ 1,  0,  1,  2,  3,  4,  5,  6,  7,  8,  9, 10, 11, 12, 13, 14,\n",
       "        15, 16, 17, 18, 19, 20, 21],\n",
       "       [ 2,  1,  0,  2,  0,  3,  0,  4,  0,  5,  0,  6,  0,  7,  0,  8,\n",
       "         0,  9,  0, 10,  0, 11,  0],\n",
       "       [ 3,  2,  2,  0,  3,  3,  0,  4,  4,  0,  5,  5,  0,  6,  6,  0,\n",
       "         7,  7,  0,  8,  8,  0,  9],\n",
       "       [ 4,  3,  0,  3,  0,  4,  0,  4,  0,  5,  0,  5,  0,  6,  0,  6,\n",
       "         0,  7,  0,  7,  0,  8,  0],\n",
       "       [ 5,  4,  3,  3,  4,  0,  5,  4,  4,  5,  0,  6,  5,  5,  6,  0,\n",
       "         7,  6,  6,  7,  0,  8,  7],\n",
       "       [ 6,  5,  0,  0,  0,  5,  0,  6,  0,  0,  0,  6,  0,  7,  0,  0,\n",
       "         0,  7,  0,  8,  0,  0,  0],\n",
       "       [ 7,  6,  4,  4,  4,  4,  6,  0,  7,  5,  5,  5,  5,  7,  0,  8,\n",
       "         6,  6,  6,  6,  8,  0,  9],\n",
       "       [ 8,  7,  0,  4,  0,  4,  0,  7,  0,  8,  0,  5,  0,  5,  0,  8,\n",
       "         0,  9,  0,  6,  0,  6,  0],\n",
       "       [ 9,  8,  5,  0,  5,  5,  0,  5,  8,  0,  9,  6,  0,  6,  6,  0,\n",
       "         6,  9,  0, 10,  7,  0,  7],\n",
       "       [10,  9,  0,  5,  0,  0,  0,  5,  0,  9,  0, 10,  0,  6,  0,  0,\n",
       "         0,  6,  0, 10,  0, 11,  0],\n",
       "       [11, 10,  6,  5,  5,  6,  6,  5,  5,  6, 10,  0, 11,  7,  6,  6,\n",
       "         7,  7,  6,  6,  7, 11,  0],\n",
       "       [12, 11,  0,  0,  0,  5,  0,  5,  0,  0,  0, 11,  0, 12,  0,  0,\n",
       "         0,  6,  0,  6,  0,  0,  0],\n",
       "       [13, 12,  7,  6,  6,  5,  7,  7,  5,  6,  6,  7, 12,  0, 13,  8,\n",
       "         7,  7,  6,  8,  8,  6,  7],\n",
       "       [14, 13,  0,  6,  0,  6,  0,  0,  0,  6,  0,  6,  0, 13,  0, 14,\n",
       "         0,  7,  0,  7,  0,  0,  0],\n",
       "       [15, 14,  8,  0,  6,  0,  0,  8,  8,  0,  0,  6,  0,  8, 14,  0,\n",
       "        15,  9,  0,  7,  0,  0,  9],\n",
       "       [16, 15,  0,  7,  0,  7,  0,  6,  0,  6,  0,  7,  0,  7,  0, 15,\n",
       "         0, 16,  0,  8,  0,  8,  0],\n",
       "       [17, 16,  9,  7,  7,  6,  7,  6,  9,  9,  6,  7,  6,  7,  7,  9,\n",
       "        16,  0, 17, 10,  8,  8,  7],\n",
       "       [18, 17,  0,  0,  0,  6,  0,  6,  0,  0,  0,  6,  0,  6,  0,  0,\n",
       "         0, 17,  0, 18,  0,  0,  0],\n",
       "       [19, 18, 10,  8,  7,  7,  8,  6,  6, 10, 10,  6,  6,  8,  7,  7,\n",
       "         8, 10, 18,  0, 19, 11,  9],\n",
       "       [20, 19,  0,  8,  0,  0,  0,  8,  0,  7,  0,  7,  0,  8,  0,  0,\n",
       "         0,  8,  0, 19,  0, 20,  0],\n",
       "       [21, 20, 11,  0,  8,  8,  0,  0,  6,  0, 11, 11,  0,  6,  0,  0,\n",
       "         8,  8,  0, 11, 20,  0, 21],\n",
       "       [22, 21,  0,  9,  0,  7,  0,  9,  0,  7,  0,  0,  0,  7,  0,  9,\n",
       "         0,  7,  0,  9,  0, 21,  0]])"
      ]
     },
     "execution_count": 6,
     "metadata": {},
     "output_type": "execute_result"
    }
   ],
   "source": [
    "s = solver2('22','7')\n",
    "res = s.getMatrix()\n",
    "res"
   ]
  },
  {
   "cell_type": "code",
   "execution_count": 23,
   "id": "4b201659",
   "metadata": {},
   "outputs": [],
   "source": [
    "def solution(M, F):\n",
    "    small = min(M,F)\n",
    "    bigger = max(M,F)\n",
    "    stepCount = 0\n",
    "    while bigger > 1:\n",
    "        try:\n",
    "            k = (bigger - small)//small\n",
    "        except:\n",
    "            return 'impossible'\n",
    "        k = max(1,k)\n",
    "        bigger -= k*small\n",
    "        if small > bigger:\n",
    "            bigger, small = small, bigger\n",
    "            \n",
    "        stepCount += k    \n",
    "    \n",
    "    return str(stepCount)"
   ]
  },
  {
   "cell_type": "code",
   "execution_count": 28,
   "id": "d4b41aa4",
   "metadata": {},
   "outputs": [
    {
     "data": {
      "text/plain": [
       "'1'"
      ]
     },
     "execution_count": 28,
     "metadata": {},
     "output_type": "execute_result"
    }
   ],
   "source": [
    "solution(2,1)"
   ]
  },
  {
   "cell_type": "code",
   "execution_count": null,
   "id": "b857d527",
   "metadata": {},
   "outputs": [],
   "source": []
  }
 ],
 "metadata": {
  "kernelspec": {
   "display_name": "Python 3 (ipykernel)",
   "language": "python",
   "name": "python3"
  },
  "language_info": {
   "codemirror_mode": {
    "name": "ipython",
    "version": 3
   },
   "file_extension": ".py",
   "mimetype": "text/x-python",
   "name": "python",
   "nbconvert_exporter": "python",
   "pygments_lexer": "ipython3",
   "version": "3.10.3"
  }
 },
 "nbformat": 4,
 "nbformat_minor": 5
}
