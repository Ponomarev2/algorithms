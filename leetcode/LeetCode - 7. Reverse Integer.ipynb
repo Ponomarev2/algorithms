{
 "cells": [
  {
   "cell_type": "code",
   "execution_count": null,
   "id": "e9d921f0",
   "metadata": {},
   "outputs": [],
   "source": [
    "class Solution:\n",
    "    def reverse(self, x: int) -> int:\n",
    "        b = list(str(x))\n",
    "        m = ''\n",
    "        if b [0] == '-':\n",
    "            m += b.pop(0)\n",
    "        b.reverse()\n",
    "        ans = ''\n",
    "        for i in b:\n",
    "            ans += i\n",
    "        m+= ans\n",
    "        m = int(m)\n",
    "        if m > (2**31-1) or m < -2**31:\n",
    "            return 0\n",
    "        else:\n",
    "            return m"
   ]
  }
 ],
 "metadata": {
  "kernelspec": {
   "display_name": "Python 3 (ipykernel)",
   "language": "python",
   "name": "python3"
  },
  "language_info": {
   "codemirror_mode": {
    "name": "ipython",
    "version": 3
   },
   "file_extension": ".py",
   "mimetype": "text/x-python",
   "name": "python",
   "nbconvert_exporter": "python",
   "pygments_lexer": "ipython3",
   "version": "3.10.3"
  }
 },
 "nbformat": 4,
 "nbformat_minor": 5
}
