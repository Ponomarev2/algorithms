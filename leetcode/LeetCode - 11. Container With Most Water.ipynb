{
 "cells": [
  {
   "cell_type": "code",
   "execution_count": 3,
   "id": "0eb5a748",
   "metadata": {},
   "outputs": [],
   "source": [
    "def maxArea(height: list[int]) -> int:\n",
    "    i, j = 0, len(height) - 1\n",
    "    water = 0\n",
    "    while i < j:\n",
    "        water = max(water, (j - i) * min(height[i], height[j]))\n",
    "        if height[i] < height[j]:\n",
    "            i += 1\n",
    "        else:\n",
    "            j -= 1\n",
    "    return water"
   ]
  },
  {
   "cell_type": "code",
   "execution_count": 4,
   "id": "ae38d276",
   "metadata": {},
   "outputs": [
    {
     "data": {
      "text/plain": [
       "49"
      ]
     },
     "execution_count": 4,
     "metadata": {},
     "output_type": "execute_result"
    }
   ],
   "source": [
    "height = [1,8,6,2,5,4,8,3,7]\n",
    "maxArea(height) # 49"
   ]
  },
  {
   "cell_type": "code",
   "execution_count": null,
   "id": "7aa036d8",
   "metadata": {},
   "outputs": [],
   "source": []
  }
 ],
 "metadata": {
  "kernelspec": {
   "display_name": "Python 3 (ipykernel)",
   "language": "python",
   "name": "python3"
  },
  "language_info": {
   "codemirror_mode": {
    "name": "ipython",
    "version": 3
   },
   "file_extension": ".py",
   "mimetype": "text/x-python",
   "name": "python",
   "nbconvert_exporter": "python",
   "pygments_lexer": "ipython3",
   "version": "3.10.3"
  }
 },
 "nbformat": 4,
 "nbformat_minor": 5
}
