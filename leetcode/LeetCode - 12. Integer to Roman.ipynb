{
 "cells": [
  {
   "cell_type": "code",
   "execution_count": null,
   "id": "59caaacf",
   "metadata": {},
   "outputs": [],
   "source": [
    "class Solution:\n",
    "    def intToRoman(self, num: int) -> str:\n",
    "        diga = {'IV' : 0, 'IX' : 0, 'XL' : 0, 'XC' : 0, 'CD' : 0, 'CM' : 0}\n",
    "        symbs = ['M', 'D', 'C', 'L', 'X', 'V', 'I']\n",
    "        vals = [1000, 500, 100, 50, 10, 5, 1]\n",
    "        \n",
    "        order = ['M', 'CM', 'D', 'CD', 'C', 'XC', 'L', 'XL', 'X', 'IX', 'V', 'IV', 'I']\n",
    "        \n",
    "        for i in range(len(vals)):\n",
    "            diga[symbs[i]] = num // vals[i]\n",
    "            num = num - diga[symbs[i]] * vals[i]\n",
    "        \n",
    "        for key in diga.keys():\n",
    "            if diga[key] == 4 and key == 'I':\n",
    "                if diga['V'] == 0:\n",
    "                    diga['IV'] = 1\n",
    "                    diga['I'] = 0\n",
    "                    diga['V'] = 0\n",
    "                else:\n",
    "                    diga['IX'] = 1\n",
    "                    diga['I'] = 0\n",
    "                    diga['V'] = 0\n",
    "            if diga[key] == 4 and key == 'X':\n",
    "                if diga['L'] == 0:\n",
    "                    diga['XL'] = 1\n",
    "                    diga['X'] = 0\n",
    "                    diga['L'] = 0\n",
    "                else:\n",
    "                    diga['XC'] = 1\n",
    "                    diga['X'] = 0\n",
    "                    diga['L'] = 0\n",
    "            if diga[key] == 4 and key == 'C':\n",
    "                if diga['D'] == 0:\n",
    "                    diga['CD'] = 1\n",
    "                    diga['D'] = 0\n",
    "                    diga['C'] = 0\n",
    "                else:\n",
    "                    diga['CM'] = 1\n",
    "                    diga['C'] = 0\n",
    "                    diga['D'] = 0\n",
    "        \n",
    "        res = ''\n",
    "        for symb in order:\n",
    "            res += symb*diga[symb]\n",
    "        \n",
    "        print(diga)\n",
    "        return res"
   ]
  }
 ],
 "metadata": {
  "kernelspec": {
   "display_name": "Python 3 (ipykernel)",
   "language": "python",
   "name": "python3"
  },
  "language_info": {
   "codemirror_mode": {
    "name": "ipython",
    "version": 3
   },
   "file_extension": ".py",
   "mimetype": "text/x-python",
   "name": "python",
   "nbconvert_exporter": "python",
   "pygments_lexer": "ipython3",
   "version": "3.10.3"
  }
 },
 "nbformat": 4,
 "nbformat_minor": 5
}
