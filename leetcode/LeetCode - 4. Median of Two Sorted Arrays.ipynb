{
 "cells": [
  {
   "cell_type": "code",
   "execution_count": null,
   "id": "0645f6aa",
   "metadata": {},
   "outputs": [],
   "source": [
    "def merge(L1, L2, L3):\n",
    "    if len(L1) == 0:\n",
    "        return L3 + L2\n",
    "    if len(L2) == 0:\n",
    "        return L3 + L1\n",
    "    else:\n",
    "        if L1[0] >= L2[0]:\n",
    "            L3.append(L2.pop(0))\n",
    "        else:\n",
    "            L3.append(L1.pop(0))\n",
    "        return merge(L1, L2, L3)\n",
    "\n",
    "class Solution:\n",
    "    def findMedianSortedArrays(self, nums1: List[int], nums2: List[int]) -> float: \n",
    "        ab = merge(nums1, nums2, [])\n",
    "        lab = len(ab)\n",
    "        if lab % 2 != 0:\n",
    "            return (ab[lab // 2])\n",
    "        else:\n",
    "            return ((ab[lab // 2]+ab[lab // 2 - 1]) / 2)"
   ]
  }
 ],
 "metadata": {
  "kernelspec": {
   "display_name": "Python 3 (ipykernel)",
   "language": "python",
   "name": "python3"
  },
  "language_info": {
   "codemirror_mode": {
    "name": "ipython",
    "version": 3
   },
   "file_extension": ".py",
   "mimetype": "text/x-python",
   "name": "python",
   "nbconvert_exporter": "python",
   "pygments_lexer": "ipython3",
   "version": "3.10.3"
  }
 },
 "nbformat": 4,
 "nbformat_minor": 5
}
