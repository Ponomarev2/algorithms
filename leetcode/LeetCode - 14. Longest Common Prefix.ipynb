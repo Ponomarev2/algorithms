{
 "cells": [
  {
   "cell_type": "code",
   "execution_count": null,
   "id": "c4bb8e7f",
   "metadata": {},
   "outputs": [],
   "source": [
    "class Solution:\n",
    "    def check(self, strX, prefix):\n",
    "        while prefix != \"\":\n",
    "            if strX.startswith(prefix):\n",
    "                break\n",
    "            else:\n",
    "                prefix = prefix[:-1]\n",
    "        return prefix\n",
    "    \n",
    "    def longestCommonPrefix(self, strs: List[str]) -> str:\n",
    "        prefix = strs[0]\n",
    "        for strX in strs:\n",
    "            prefix = self.check(strX, prefix)\n",
    "            if prefix == \"\":\n",
    "                break\n",
    "        return prefix"
   ]
  }
 ],
 "metadata": {
  "kernelspec": {
   "display_name": "Python 3 (ipykernel)",
   "language": "python",
   "name": "python3"
  },
  "language_info": {
   "codemirror_mode": {
    "name": "ipython",
    "version": 3
   },
   "file_extension": ".py",
   "mimetype": "text/x-python",
   "name": "python",
   "nbconvert_exporter": "python",
   "pygments_lexer": "ipython3",
   "version": "3.10.3"
  }
 },
 "nbformat": 4,
 "nbformat_minor": 5
}
