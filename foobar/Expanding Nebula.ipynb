{
 "cells": [
  {
   "cell_type": "raw",
   "id": "a546cac0",
   "metadata": {},
   "source": [
    "# Expanding Nebula\n",
    "================\n",
    "\n",
    "You've escaped Commander Lambda's exploding space station along with numerous escape pods full of bunnies. But -- oh no! -- one of the escape pods has flown into a nearby nebula, causing you to lose track of it. You start monitoring the nebula, but unfortunately, just a moment too late to find where the pod went. However, you do find that the gas of the steadily expanding nebula follows a simple pattern, meaning that you should be able to determine the previous state of the gas and narrow down where you might find the pod.\n",
    "\n",
    "From the scans of the nebula, you have found that it is very flat and distributed in distinct patches, so you can model it as a 2D grid. You find that the current existence of gas in a cell of the grid is determined exactly by its 4 nearby cells, specifically, (1) that cell, (2) the cell below it, (3) the cell to the right of it, and (4) the cell below and to the right of it. If, in the current state, exactly 1 of those 4 cells in the 2x2 block has gas, then it will also have gas in the next state. Otherwise, the cell will be empty in the next state.\n",
    "\n",
    "For example, let's say the previous state of the grid (p) was:\n",
    ".O..\n",
    "..O.\n",
    "...O\n",
    "O...\n",
    "\n",
    "To see how this grid will change to become the current grid (c) over the next time step, consider the 2x2 blocks of cells around each cell.  Of the 2x2 block of [p[0][0], p[0][1], p[1][0], p[1][1]], only p[0][1] has gas in it, which means this 2x2 block would become cell c[0][0] with gas in the next time step:\n",
    ".O -> O\n",
    "..\n",
    "\n",
    "Likewise, in the next 2x2 block to the right consisting of [p[0][1], p[0][2], p[1][1], p[1][2]], two of the containing cells have gas, so in the next state of the grid, c[0][1] will NOT have gas:\n",
    "O. -> .\n",
    ".O\n",
    "\n",
    "Following this pattern to its conclusion, from the previous state p, the current state of the grid c will be:\n",
    "O.O\n",
    ".O.\n",
    "O.O\n",
    "\n",
    "Note that the resulting output will have 1 fewer row and column, since the bottom and rightmost cells do not have a cell below and to the right of them, respectively.\n",
    "\n",
    "Write a function solution(g) where g is an array of array of bools saying whether there is gas in each cell (the current scan of the nebula), and return an int with the number of possible previous states that could have resulted in that grid after 1 time step.  For instance, if the function were given the current state c above, it would deduce that the possible previous states were p (given above) as well as its horizontal and vertical reflections, and would return 4. The width of the grid will be between 3 and 50 inclusive, and the height of the grid will be between 3 and 9 inclusive.  The solution will always be less than one billion (10^9).\n",
    "\n",
    "Test cases\n",
    "==========\n",
    "Your code should pass the following test cases.\n",
    "Note that it may also be run against hidden test cases not shown here.\n",
    "\n",
    "\n",
    "-- Python cases --\n",
    "Input:\n",
    "solution.solution([[True, True, False, True, False, True, False, True, True, False], [True, True, False, False, False, False, True, True, True, False], [True, True, False, False, False, False, False, False, False, True], [False, True, False, False, False, False, True, True, False, False]])\n",
    "Output:\n",
    "    11567\n",
    "\n",
    "Input:\n",
    "solution.solution([[True, False, True], [False, True, False], [True, False, True]])\n",
    "Output:\n",
    "    4\n",
    "\n",
    "Input:\n",
    "solution.solution([[True, False, True, False, False, True, True, True], [True, False, True, False, False, False, True, False], [True, True, True, False, False, False, True, False], [True, False, True, False, False, False, True, False], [True, False, True, False, False, True, True, True]])\n",
    "Output:\n",
    "    254"
   ]
  },
  {
   "cell_type": "code",
   "execution_count": 19,
   "id": "7e33a508",
   "metadata": {},
   "outputs": [],
   "source": [
    "import numpy as np\n",
    "from collections import defaultdict"
   ]
  },
  {
   "cell_type": "code",
   "execution_count": 311,
   "id": "6cc9238e",
   "metadata": {},
   "outputs": [],
   "source": [
    "m = [[True, True, False, True, False, True, False, True, True, False],\n",
    "     [True, True, False, False, False, False, True, True, True, False],\n",
    "     [True, True, False, False, False, False, False, False, False, True],\n",
    "     [False, True, False, False, False, False, True, True, False, False]]\n",
    "\n",
    "m = [[True, False, True, False, False, True, True, True],\n",
    "     [True, False, True, False, False, False, True, False],\n",
    "     [True, True, True, False, False, False, True, False],\n",
    "     [True, False, True, False, False, False, True, False],\n",
    "     [True, False, True, False, False, True, True, True]]\n",
    "\n",
    "m = [[True, False, True],\n",
    "     [False, True, False],\n",
    "     [True, False, True]]\n",
    "\n",
    "# m = [[True, True, True]]\n",
    "\n",
    "m = [[True, False],\n",
    "     [False, True]]\n",
    "\n",
    "matrix = np.array(m, dtype=bool)\n",
    "#matrix = np.random.randint(0, 2, [1, 10], bool)\n",
    "prevShape = np.zeros([matrix.shape[0] + 1, matrix.shape[1] + 1], dtype=bool)"
   ]
  },
  {
   "cell_type": "code",
   "execution_count": 292,
   "id": "bf80430a",
   "metadata": {},
   "outputs": [],
   "source": [
    "def generateMatrix(case: bool, on: tuple[list], baseShape: list):\n",
    "    if case == True:\n",
    "        patterns = np.array([[True, False, False, False],\n",
    "                             [False, True, False, False],\n",
    "                             [False, False, True, False],\n",
    "                             [False, False, False, True]])\n",
    "        \n",
    "    else:\n",
    "        patterns = np.array([[False, False, False, False], # 0\n",
    "                             [True, True, False, False],   # 2\n",
    "                             [True, False, True, False],\n",
    "                             [True, False, False, True],\n",
    "                             [False, True, True, False],\n",
    "                             [False, True, False, True],\n",
    "                             [False, False, True, True],\n",
    "                             [True, True, True, False],    # 3\n",
    "                             [True, True, False, True],\n",
    "                             [True, False, True, True],\n",
    "                             [False, True, True, True],\n",
    "                             [True, True, True, True]])     # 4\n",
    "    \n",
    "    res = np.zeros([len(patterns), baseShape[0], baseShape[1]], dtype=bool)\n",
    "    res[:, on[0], on[1]] = patterns\n",
    "    \n",
    "    return res                   "
   ]
  },
  {
   "cell_type": "code",
   "execution_count": 293,
   "id": "d1872bc5",
   "metadata": {},
   "outputs": [],
   "source": [
    "def innerJoin(A: list[list], B: list[list], on: list):\n",
    "    res = np.array([np.zeros([ A[0].shape[0], A[0].shape[1] ], dtype=bool)])\n",
    "    for i in range(len(A)):\n",
    "        mask = np.equal(B[:, on[0], on[1]], A[i][on]).all(axis=1) \n",
    "        res = np.vstack([res, A[i] | B[mask]])\n",
    "    return res[1:]"
   ]
  },
  {
   "cell_type": "code",
   "execution_count": 312,
   "id": "9f1c4985",
   "metadata": {},
   "outputs": [
    {
     "name": "stdout",
     "output_type": "stream",
     "text": [
      "CPU times: total: 0 ns\n",
      "Wall time: 968 µs\n"
     ]
    },
    {
     "data": {
      "text/plain": [
       "12"
      ]
     },
     "execution_count": 312,
     "metadata": {},
     "output_type": "execute_result"
    }
   ],
   "source": [
    "%%time\n",
    "\n",
    "res = []\n",
    "for i in range(matrix.shape[0]):\n",
    "    for j in range(matrix.shape[1]):\n",
    "        cells = ([i, i, i + 1, i + 1], [j, j + 1, j, j + 1])\n",
    "        combs = generateMatrix(case = matrix[i, j], on = cells, baseShape = prevShape.shape)\n",
    "        if (i, j) == (0, 0): \n",
    "            res = combs\n",
    "            continue\n",
    "            \n",
    "        cross = ([i, i, i + 1], [j, j + 1, j])\n",
    "        if i == 0:\n",
    "            cross[0].pop(1)\n",
    "            cross[1].pop(1)\n",
    "        if j == 0:\n",
    "            cross[0].pop(2)\n",
    "            cross[1].pop(2)\n",
    "            \n",
    "        res = innerJoin(combs, res, on = cross)\n",
    "\n",
    "        \n",
    "len(res)"
   ]
  },
  {
   "cell_type": "code",
   "execution_count": 295,
   "id": "3cea16f1",
   "metadata": {},
   "outputs": [
    {
     "name": "stdout",
     "output_type": "stream",
     "text": [
      "CPU times: total: 0 ns\n",
      "Wall time: 0 ns\n"
     ]
    },
    {
     "data": {
      "text/plain": [
       "464"
      ]
     },
     "execution_count": 295,
     "metadata": {},
     "output_type": "execute_result"
    }
   ],
   "source": [
    "%%time\n",
    "\n",
    "transitionMatrix = [[[1, 0, 1],\n",
    "                     [0, 2, 1],\n",
    "                     [1, 2, 1]],\n",
    "                    \n",
    "                    [[0, 2, 0],\n",
    "                     [1, 0, 0],\n",
    "                     [0, 0, 0]]]\n",
    "\n",
    "initial = [[2, 6, 4],\n",
    "           [2, 2, 0]]\n",
    "\n",
    "state = initial[int(matrix[0, 0])]\n",
    "for i in range(matrix.shape[0]):\n",
    "    for j in range(1, matrix.shape[1]):\n",
    "        case = int(matrix[i, j])\n",
    "        nextState = [0, 0, 0]\n",
    "        for k in range(len(state)):\n",
    "            for m in range(len(nextState)):\n",
    "                nextState[m] += transitionMatrix[case][k][m] * state[k]\n",
    "        state = nextState\n",
    "        \n",
    "sum(state)        "
   ]
  },
  {
   "cell_type": "code",
   "execution_count": 270,
   "id": "d41d6fd4",
   "metadata": {},
   "outputs": [
    {
     "name": "stdout",
     "output_type": "stream",
     "text": [
      "CPU times: total: 0 ns\n",
      "Wall time: 0 ns\n"
     ]
    },
    {
     "data": {
      "text/plain": [
       "224"
      ]
     },
     "execution_count": 270,
     "metadata": {},
     "output_type": "execute_result"
    }
   ],
   "source": [
    "%%time\n",
    "\n",
    "cases = [{ 0: {0: 1, 2: 1}, 1: {1: 2, 2: 1}, 2: {0: 1, 1: 2, 2: 1} },\n",
    "         { 0: {1: 2}, 1: {0: 1} } ]              # {right: {left: count}}\n",
    "\n",
    "rightValuesInitial = [{0: 2, 1: 6, 2: 4}, \n",
    "                     {0: 2, 1: 2, 2: 0}]\n",
    "\n",
    "rightValues = rightValuesInitial[int(matrix[0, 0])]\n",
    "\n",
    "\n",
    "for i in range(matrix.shape[0]):\n",
    "    for j in range(1, matrix.shape[1]):\n",
    "        newRightValues = {0: 0, 1: 0, 2: 0}\n",
    "        case = cases[int(matrix[i, j])]\n",
    "        for right in case.keys():\n",
    "            for left, count in case[right].items():\n",
    "                newRightValues[left] += rightValues[right] * count\n",
    "                \n",
    "        rightValues = newRightValues\n",
    "                    \n",
    "sum(rightValues.values())"
   ]
  },
  {
   "cell_type": "code",
   "execution_count": 352,
   "id": "f0f5d300",
   "metadata": {},
   "outputs": [],
   "source": [
    "transitionRightTo1 = {'A': ['C', 'E'], 'B': ['C', 'E'], 'C': ['B'], 'D': ['C', 'E'],\n",
    "                      'E': ['D'], 'F': ['B'], 'G': ['C', 'E'], 'H': ['D'],\n",
    "                      'I': ['B'], 'K': ['D'], 'L': ['B'], 'N': ['D']} \n",
    "\n",
    "transitionRightTo0 = {'A': ['A', 'J'], 'B': ['A', 'J'], 'C': ['F', 'H', 'M'], 'D': ['A', 'J'],\n",
    "                      'E': ['I', 'K', 'O'], 'F': ['F', 'H', 'M'], 'G': ['A', 'J'], 'H': ['I', 'K', 'O'],\n",
    "                      'I': ['F', 'H', 'M'], 'J': ['G', 'L', 'N', 'P'], 'K': ['I', 'K', 'O'], 'L': ['F', 'H', 'M'], \n",
    "                      'M': ['G', 'L', 'N', 'P'], 'N': ['I', 'K', 'O'], 'O': ['G', 'L', 'N', 'P'], 'P': ['G', 'L', 'N', 'P']} \n",
    "\n",
    "transitionDownTo1 = {'A': ['D', 'E'], 'B': ['D', 'E'], 'C': ['D', 'E'], 'D': ['B'],\n",
    "                     'E': ['C'], 'F': ['D', 'E'], 'G': ['B'], 'H': ['C'],\n",
    "                     'J': ['C'], 'M': ['C'], 'I': ['B'], 'L': ['B']} \n",
    "\n",
    "transitionDownTo0 = {'A': ['A', 'K'], 'B': ['A', 'K'], 'C': ['A', 'K'], 'D': ['G', 'H', 'N'],\n",
    "                      'E': ['I', 'J', 'O'], 'F': ['A', 'K'], 'G': ['G', 'H', 'N'], 'H': ['I', 'J', 'O'],\n",
    "                      'I': ['G', 'H', 'N'], 'J': ['I', 'J', 'O'], 'K': ['F', 'L', 'M', 'P'], 'L': ['G', 'H', 'N'], \n",
    "                      'M': ['I', 'J', 'O'], 'N': ['F', 'L', 'M', 'P'], 'O': ['F', 'L', 'M', 'P'], 'P': ['F', 'L', 'M', 'P']} \n",
    "\n",
    "transitionLeftTo1 = {'A': ['B', 'D'],'C': ['B', 'D'], 'E': ['B', 'D'], 'J': ['B', 'D'],\n",
    "                     'B': ['C'], 'F': ['C'], 'H': ['C'], 'M': ['C'],\n",
    "                     'D': ['E'], 'I': ['E'], 'K': ['E'], 'O': ['E']} \n",
    "\n",
    "transitionLeftTo0 = {'A': ['A', 'G'], 'C': ['A', 'G'], 'E': ['A', 'G'], 'J': ['A', 'G'],\n",
    "                     'B': ['F', 'I', 'L'], 'F': ['F', 'I', 'L'], 'H': ['F', 'I', 'L'], 'M': ['F', 'I', 'L'],\n",
    "                     'D': ['H', 'K', 'N'], 'I': ['H', 'K', 'N'], 'K': ['H', 'K', 'N'], 'O': ['H', 'K', 'N'],\n",
    "                     'G': ['J', 'O', 'M', 'P'], 'L': ['J', 'O', 'M', 'P'], 'N': ['J', 'O', 'M', 'P'],\n",
    "                     'P': ['J', 'O', 'M', 'P']} \n",
    "\n",
    "transitionUpTo1 = {'A': ['B', 'C'], 'D': ['B', 'C'], 'K': ['B', 'C'],\n",
    "                   'B': ['D'], 'G': ['D'], 'H': ['D'], 'N': ['D'],\n",
    "                   'C': ['E'], 'I': ['E'], 'J': ['E'], 'O': ['E']} \n",
    "\n",
    "transitionDownTo0 = {'A': ['A', 'K'], 'B': ['A', 'K'], 'C': ['A', 'K'], 'D': ['G', 'H', 'N'],\n",
    "                      'E': ['I', 'J', 'O'], 'F': ['A', 'K'], 'G': ['G', 'H', 'N'], 'H': ['I', 'J', 'O'],\n",
    "                      'I': ['G', 'H', 'N'], 'J': ['I', 'J', 'O'], 'K': ['F', 'L', 'M', 'P'], 'L': ['G', 'H', 'N'], \n",
    "                      'M': ['I', 'J', 'O'], 'N': ['F', 'L', 'M', 'P'], 'O': ['F', 'L', 'M', 'P'], 'P': ['F', 'L', 'M', 'P']} \n",
    "\n",
    "transitionsRight = [transitionRightTo0, transitionRightTo1]\n",
    "transitionsDown = [transitionDownTo0, transitionDownTo1]\n",
    "transitionsLeft = [transitionLeftTo0, transitionLeftTo1]"
   ]
  },
  {
   "cell_type": "code",
   "execution_count": 359,
   "id": "80e1df81",
   "metadata": {},
   "outputs": [],
   "source": [
    "def merge(states_X, states_Y, transitions):\n",
    "    states_Z = defaultdict(lambda: 0) # res\n",
    "    for state_xi, count in states_X.items():\n",
    "        if state_xi in transitions.keys():\n",
    "            for state_next in transitions[state_xi]:\n",
    "                if state_next in states_Y.keys():\n",
    "                    states_Z[state_next] += count * states_Y[state_next]\n",
    "                    \n",
    "    return states_Z\n",
    "\n",
    "def mergeInplace(states_X, states_Y):\n",
    "    states_Z = defaultdict(lambda: 0) # res\n",
    "    for state_xi, count in states_X.items():\n",
    "        if state_xi in states_Y.keys():\n",
    "            states_Z[state_xi] += count * states_Y[state_xi]\n",
    "                    \n",
    "    return states_Z\n",
    "\n",
    "def mergeMin(states_X, states_Y):\n",
    "    states_Z = defaultdict(lambda: 0) # res\n",
    "    for state_xi, count in states_X.items():\n",
    "        if state_xi in states_Y.keys():\n",
    "            states_Z[state_xi] += min(count, states_Y[state_xi])\n",
    "                    \n",
    "    return states_Z\n",
    "\n",
    "def mergeConstraint(states_X, states_Y, transitions, transitionsUp):\n",
    "    states_Z = defaultdict(lambda: 0) # res\n",
    "    for state_xi, count in states_X.items():\n",
    "        if state_xi in transitions.keys():\n",
    "            for state_next in transitions[state_xi]:\n",
    "                if state_next in states_Y.keys() and state_next in transitionsUp.keys():\n",
    "                    states_Z[state_next] += count\n",
    "                    \n",
    "    return states_Z"
   ]
  },
  {
   "cell_type": "code",
   "execution_count": 306,
   "id": "36a87707",
   "metadata": {},
   "outputs": [
    {
     "name": "stdout",
     "output_type": "stream",
     "text": [
      "8\n"
     ]
    }
   ],
   "source": [
    "matrix = [[1], [0], [1]]\n",
    "\n",
    "initial = [{'A': 1, 'F': 1, 'G': 1, 'H': 1, 'I': 1, 'J': 1, 'K': 1, 'L': 1, 'M': 1, 'N': 1, 'O': 1, 'P': 1},\n",
    "           {'B': 1, 'C': 1, 'D': 1, 'E': 1}]\n",
    "\n",
    "curStates = initial[int(matrix[0][0])]\n",
    "\n",
    "for row in range(1, len(matrix)):\n",
    "    case = int(matrix[row][0])\n",
    "    transitions = transitionsDown[case]\n",
    "    curStates = merge(curStates, initial[case], transitions)\n",
    "\n",
    "print(sum(curStates.values()))"
   ]
  },
  {
   "cell_type": "code",
   "execution_count": 366,
   "id": "145e8405",
   "metadata": {},
   "outputs": [
    {
     "name": "stdout",
     "output_type": "stream",
     "text": [
      "12\n",
      "10\n",
      "{'A': 1, 'F': 1, 'G': 1, 'H': 1, 'I': 1, 'J': 1, 'K': 1, 'L': 1, 'M': 1, 'N': 1, 'O': 1, 'P': 1}\n",
      "defaultdict(<function merge.<locals>.<lambda> at 0x0000022400872050>, {'A': 2, 'J': 2, 'F': 1, 'H': 1, 'M': 1, 'I': 1, 'K': 1, 'O': 1})\n"
     ]
    }
   ],
   "source": [
    "#%%time\n",
    "\n",
    "matrix = [[1, 0],\n",
    "          [0, 1]]\n",
    "\n",
    "initial = [{'A': 1, 'F': 1, 'G': 1, 'H': 1, 'I': 1, 'J': 1, 'K': 1, 'L': 1, 'M': 1, 'N': 1, 'O': 1, 'P': 1},\n",
    "           {'B': 1, 'C': 1, 'D': 1, 'E': 1}]\n",
    "\n",
    "curStates = initial[int(matrix[0][0])]\n",
    "\n",
    "# for row in range(len(matrix[0])):\n",
    "#     for col in range(1, len(matrix[0])):\n",
    "#         case = int(matrix[row][col])\n",
    "#         transitions = transitionsRight[case]\n",
    "#         curStates = merge(curStates, initial[case], transitions)\n",
    "\n",
    "left2right = [initial[int(matrix[0][0])]]\n",
    "right2left = [initial[int(matrix[0][-1])]]\n",
    "both = []\n",
    "for col in range(1, len(matrix[0])):\n",
    "    case1 = int(matrix[0][col])\n",
    "    transitions1 = transitionsRight[case1]\n",
    "    \n",
    "    case2 = int(matrix[0][-col - 1])\n",
    "    transitions2 = transitionsLeft[case2]\n",
    "    \n",
    "    left2right.append(merge(left2right[col - 1], initial[case1], transitions1))\n",
    "    right2left.append(merge(right2left[col - 1], initial[case2], transitions2))\n",
    "\n",
    "for col in range(len(matrix[0])):\n",
    "    both.append(mergeInplace(left2right[col], right2left[-col - 1]))\n",
    "    \n",
    "#right2left\n",
    "print(sum(right2left[-1].values()))\n",
    "print(sum(left2right[-1].values()))\n",
    "print(right2left[0])\n",
    "print(left2right[-1])"
   ]
  },
  {
   "cell_type": "code",
   "execution_count": 367,
   "id": "6f4fb797",
   "metadata": {},
   "outputs": [
    {
     "name": "stdout",
     "output_type": "stream",
     "text": [
      "10\n",
      "10\n"
     ]
    }
   ],
   "source": [
    "for elem in both:\n",
    "    print(sum(elem.values()))"
   ]
  },
  {
   "cell_type": "code",
   "execution_count": 361,
   "id": "f3b9ec3b",
   "metadata": {},
   "outputs": [],
   "source": [
    "nextLine = []\n",
    "for col in range(len(both)):\n",
    "    case = int(matrix[1][col])\n",
    "    transitions = transitionsDown[case]\n",
    "    nextLine.append(merge(both[col], initial[case], transitions))"
   ]
  },
  {
   "cell_type": "code",
   "execution_count": 362,
   "id": "15a27855",
   "metadata": {},
   "outputs": [
    {
     "name": "stdout",
     "output_type": "stream",
     "text": [
      "26\n",
      "26\n"
     ]
    }
   ],
   "source": [
    "z = [mergeMin(nextLine[1], initial[0], transitionsLeft[0]), merge(nextLine[0], initial[1], transitionsRight[1])]\n",
    "for elem in z:\n",
    "    print(sum(elem.values()))\n",
    "    "
   ]
  },
  {
   "cell_type": "code",
   "execution_count": 364,
   "id": "6e4514e4",
   "metadata": {},
   "outputs": [
    {
     "data": {
      "text/plain": [
       "15"
      ]
     },
     "execution_count": 364,
     "metadata": {},
     "output_type": "execute_result"
    }
   ],
   "source": [
    "sum(merge(nextLine[1], initial[0], transitionsLeft[0]).values())"
   ]
  },
  {
   "cell_type": "code",
   "execution_count": 336,
   "id": "d95f6f70",
   "metadata": {},
   "outputs": [
    {
     "name": "stdout",
     "output_type": "stream",
     "text": [
      "defaultdict(<function merge.<locals>.<lambda> at 0x0000022400873010>, {'A': 5, 'K': 5, 'G': 2, 'H': 2, 'N': 2, 'I': 3, 'J': 3, 'O': 3})\n",
      "25\n",
      "defaultdict(<function merge.<locals>.<lambda> at 0x0000022400872B00>, {'D': 3, 'E': 3, 'C': 4, 'B': 1})\n",
      "11\n"
     ]
    }
   ],
   "source": [
    "for elem in nextLine:\n",
    "    print(elem)\n",
    "    print(sum(elem.values()))"
   ]
  },
  {
   "cell_type": "code",
   "execution_count": null,
   "id": "ccb0031a",
   "metadata": {},
   "outputs": [],
   "source": [
    "A = [[0, 0],  \n",
    "     [0, 0]]\n",
    "\n",
    "# 1\n",
    "\n",
    "B = [[1, 0],\n",
    "     [0, 0]]\n",
    "\n",
    "C = [[0, 1],\n",
    "     [0, 0]]\n",
    "\n",
    "D = [[0, 0],\n",
    "     [1, 0]]\n",
    "\n",
    "E = [[0, 0],\n",
    "     [0, 1]]\n",
    "\n",
    "# 2\n",
    "\n",
    "F = [[1, 1],\n",
    "     [0, 0]]\n",
    "\n",
    "G = [[1, 0],\n",
    "     [1, 0]]\n",
    "\n",
    "H = [[1, 0],\n",
    "     [0, 1]]\n",
    "\n",
    "I = [[0, 1],\n",
    "     [1, 0]]\n",
    "\n",
    "J = [[0, 1],\n",
    "     [0, 1]]\n",
    "\n",
    "K = [[0, 0],\n",
    "     [1, 1]]\n",
    "\n",
    "\n",
    "# 3\n",
    "\n",
    "L = [[1, 1],\n",
    "     [1, 0]]\n",
    "\n",
    "M = [[1, 1],\n",
    "     [0, 1]]\n",
    "\n",
    "N = [[1, 0],\n",
    "     [1, 1]]\n",
    "\n",
    "O = [[0, 1],\n",
    "     [1, 1]]\n",
    "\n",
    "\n",
    "# 4\n",
    "\n",
    "P = [[1, 1],\n",
    "     [1, 1]]\n"
   ]
  },
  {
   "cell_type": "code",
   "execution_count": null,
   "id": "ff05e3c0",
   "metadata": {},
   "outputs": [],
   "source": []
  },
  {
   "cell_type": "code",
   "execution_count": null,
   "id": "60a7b3d0",
   "metadata": {},
   "outputs": [],
   "source": []
  },
  {
   "cell_type": "code",
   "execution_count": 368,
   "id": "be1ddb2d",
   "metadata": {},
   "outputs": [],
   "source": [
    "import itertools\n",
    "allPreimagesCol=[]\n",
    "matches=[]\n",
    "count=0\n",
    "totalpaths=[]\n",
    "found_matches={}\n",
    "\n",
    "match_side=dict({0:[0,1,4,5],\n",
    "                1:[2,3,6,7],\n",
    "                2:[0,1,4,5],\n",
    "                3:[2,3,6,7],\n",
    "                4:[8,9,12,13],\n",
    "                5:[10,11,14,15],\n",
    "                6:[8,9,12,13],\n",
    "                7:[10,11,14,15],\n",
    "                8:[0,1,4,5],\n",
    "                9:[2,3,6,7],\n",
    "                10:[0,1,4,5],\n",
    "                11:[2,3,6,7],\n",
    "                12:[8,9,12,13],\n",
    "                13:[10,11,14,15],\n",
    "                14:[8,9,12,13],\n",
    "                15:[10,11,14,15]})\n",
    "\n",
    "match_down=dict({0:[0,1,2,3],\n",
    "                 1:[4,5,6,7],\n",
    "                 2:[8,9,10,11],\n",
    "                 3:[12,13,14,15],\n",
    "                 4:[0,1,2,3],\n",
    "                 5:[4,5,6,7],\n",
    "                 6:[8,9,10,11],\n",
    "                 7:[12,13,14,15],\n",
    "                 8:[0,1,2,3],\n",
    "                 9:[4,5,6,7],\n",
    "                 10:[8,9,10,11],\n",
    "                 11:[12,13,14,15],\n",
    "                 12:[0,1,2,3],\n",
    "                 13:[4,5,6,7],\n",
    "                 14:[8,9,10,11],\n",
    "                 15:[12,13,14,15]\n",
    "                 })\n",
    "\n",
    "paths={}\n",
    "sides={}\n",
    "\n",
    "rules=dict({0:[0,3,5,6,7,9,10,11,12,13,14,15],\n",
    "             1:[1,2,4,8]})\n",
    "#for every i,j the rulebase follows the order [(i,j),(i,j+1),(i+1,j),(i+1,j+1),nextstate]\n",
    "rulebase=[[0,0,0,0,False],\n",
    "          [0,0,0,1,True],\n",
    "          [0,0,1,0,True],\n",
    "          [0,0,1,1,False],\n",
    "          [0,1,0,0,True],\n",
    "          [0,1,0,1,False],\n",
    "          [0,1,1,0,False],\n",
    "          [0,1,1,1,False],\n",
    "          [1,0,0,0,True],\n",
    "          [1,0,0,1,False],\n",
    "          [1,0,1,0,False],\n",
    "          [1,0,1,1,False],\n",
    "          [1,1,0,0,False],\n",
    "          [1,1,0,1,False],\n",
    "          [1,1,1,0,False],\n",
    "          [1,1,1,1,False]]\n",
    "\n",
    "def getAllPathsCol(col, u, depth, path): \n",
    "    global matches\n",
    "    depth+=1\n",
    "    path.append(u) \n",
    "    if depth==length:\n",
    "        matches.append(path[:])\n",
    "    else: \n",
    "        for i in match_down[u]:\n",
    "            if(rulebase[i][4]==col[depth]):\n",
    "                    getAllPathsCol(col,i, depth, path)\n",
    "    path.pop()\n",
    "\n",
    "def match(row,depth):\n",
    "    global count\n",
    "    global length\n",
    "    global newg\n",
    "    prods=[]\n",
    "    nextl=[]\n",
    "    depth+=1\n",
    "    if(depth<length):\n",
    "        vaar=tuple((tuple(row)+tuple(tuple(i) for i in allPreimagesCol[depth] )))\n",
    "    if(depth==length):\n",
    "        count+=1\n",
    "    elif( vaar in found_matches):\n",
    "        for p in found_matches[vaar]:\n",
    "            match(list(p),depth)\n",
    "    else:\n",
    "        if(tuple(row) in sides):\n",
    "            prods=sides[tuple(row)]\n",
    "        else:\n",
    "            prods=[l for l in itertools.product(*[match_side[k] for k in row])]\n",
    "        m=[]\n",
    "        for i in allPreimagesCol[depth]:\n",
    "            m.append((tuple(i)))\n",
    "        nextl=[q for q in set(m)]\n",
    "        s=set(prods) & set(nextl)\n",
    "        if(len(s)>0):\n",
    "            found_matches[vaar]=s\n",
    "            for j in (list(s)):\n",
    "                    match(list(j),depth)\n",
    "\n",
    "\n",
    "def findMatch(row):\n",
    "    for i in row:\n",
    "        if(tuple((tuple(i)+tuple([tuple(j) for j in allPreimagesCol[0] ]))) in found_matches):\n",
    "            for p in found_matches[tuple((tuple(i)+tuple([tuple(j) for j in allPreimagesCol[0] ])))]:\n",
    "                match(list(p),0)\n",
    "        else:\n",
    "            match(i,0)\n",
    "\n",
    "\n",
    "\n",
    "def solution(g):\n",
    "    # Okay I had to search \"expanding nebula foobar\", but I found the concept to be \"Cellular Automaton\" - \n",
    "    # Nature of Code by Daniel Shiffman is a great resource.\n",
    "    # The question wants it in reverse. \n",
    "    col=[] \n",
    "    global length\n",
    "    newg=list(zip(*g))\n",
    "    global allPreimagesCol\n",
    "    global matches\n",
    "\n",
    "    for i in range(len(newg)):\n",
    "        col=newg[i]\n",
    "        length=len(col)\n",
    "        if(tuple(col) in paths):\n",
    "            allPreimagesCol.append(paths[tuple(col)])\n",
    "        else:\n",
    "            for item in rules[col[0]]:\n",
    "                path=[]\n",
    "                getAllPathsCol(col,item,0,path)\n",
    "            allPreimagesCol.append(matches)\n",
    "            paths[tuple(col)]=matches\n",
    "            matches=[]\n",
    "    row=allPreimagesCol[0]\n",
    "    length=len(allPreimagesCol)\n",
    "    findMatch(row)\n",
    "    return(count)"
   ]
  },
  {
   "cell_type": "code",
   "execution_count": 374,
   "id": "934b6169",
   "metadata": {},
   "outputs": [
    {
     "data": {
      "text/plain": [
       "12"
      ]
     },
     "execution_count": 374,
     "metadata": {},
     "output_type": "execute_result"
    }
   ],
   "source": [
    "m = [[True, False, True],\n",
    "     [False, True, False],\n",
    "     [True, False, True]]\n",
    "\n",
    "m = [[True, True, False, True, False, True, False, True, True, False],\n",
    "     [True, True, False, False, False, False, True, True, True, False],\n",
    "     [True, True, False, False, False, False, False, False, False, True],\n",
    "     [False, True, False, False, False, False, True, True, False, False]]\n",
    "\n",
    "# m = [[True, False, True, False, False, True, True, True],\n",
    "#      [True, False, True, False, False, False, True, False],\n",
    "#      [True, True, True, False, False, False, True, False],\n",
    "#      [True, False, True, False, False, False, True, False],\n",
    "#      [True, False, True, False, False, True, True, True]]\n",
    "\n",
    "solution(m)"
   ]
  },
  {
   "cell_type": "code",
   "execution_count": 370,
   "id": "70574ea3",
   "metadata": {},
   "outputs": [],
   "source": [
    "m = [[True, False, True],\n",
    "     [False, True, False],\n",
    "     [True, False, True]]"
   ]
  },
  {
   "cell_type": "code",
   "execution_count": null,
   "id": "ba93e095",
   "metadata": {},
   "outputs": [],
   "source": []
  },
  {
   "cell_type": "code",
   "execution_count": null,
   "id": "98f9e558",
   "metadata": {},
   "outputs": [],
   "source": []
  },
  {
   "cell_type": "code",
   "execution_count": null,
   "id": "057d90f6",
   "metadata": {},
   "outputs": [],
   "source": []
  }
 ],
 "metadata": {
  "kernelspec": {
   "display_name": "Python 3 (ipykernel)",
   "language": "python",
   "name": "python3"
  },
  "language_info": {
   "codemirror_mode": {
    "name": "ipython",
    "version": 3
   },
   "file_extension": ".py",
   "mimetype": "text/x-python",
   "name": "python",
   "nbconvert_exporter": "python",
   "pygments_lexer": "ipython3",
   "version": "3.10.3"
  }
 },
 "nbformat": 4,
 "nbformat_minor": 5
}
