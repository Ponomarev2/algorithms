{
 "cells": [
  {
   "cell_type": "markdown",
   "id": "a37e944f",
   "metadata": {},
   "source": [
    "Distract the Trainers\n",
    "\n",
    "=====================\n",
    "\n",
    "The time for the mass escape has come, and you need to distract the bunny trainers so that the workers can make it out! Unfortunately for you, they're watching the bunnies closely. Fortunately, this means they haven't realized yet that the space station is about to explode due to the destruction of the LAMBCHOP doomsday device. Also fortunately, all that time you spent working as first a minion and then a henchman means that you know the trainers are fond of bananas. And gambling. And thumb wrestling.\n",
    "\n",
    "The bunny trainers, being bored, readily accept your suggestion to play the Banana Games.\n",
    "\n",
    "You will set up simultaneous thumb wrestling matches. In each match, two trainers will pair off to thumb wrestle. The trainer with fewer bananas will bet all their bananas, and the other trainer will match the bet. The winner will receive all of the bet bananas. You don't pair off trainers with the same number of bananas (you will see why, shortly). You know enough trainer psychology to know that the one who has more bananas always gets over-confident and loses. Once a match begins, the pair of trainers will continue to thumb wrestle and exchange bananas, until both of them have the same number of bananas. Once that happens, both of them will lose interest and go back to supervising the bunny workers, and you don't want THAT to happen!\n",
    "\n",
    "For example, if the two trainers that were paired started with 3 and 5 bananas, after the first round of thumb wrestling they will have 6 and 2 (the one with 3 bananas wins and gets 3 bananas from the loser). After the second round, they will have 4 and 4 (the one with 6 bananas loses 2 bananas). At that point they stop and get back to training bunnies.\n",
    "\n",
    "How is all this useful to distract the bunny trainers? Notice that if the trainers had started with 1 and 4 bananas, then they keep thumb wrestling! 1, 4 -> 2, 3 -> 4, 1 -> 3, 2 -> 1, 4 and so on.\n",
    "\n",
    "Now your plan is clear. You must pair up the trainers in such a way that the maximum number of trainers go into an infinite thumb wrestling loop!\n",
    "\n",
    "Write a function solution(banana_list) which, given a list of positive integers depicting the amount of bananas the each trainer starts with, returns the fewest possible number of bunny trainers that will be left to watch the workers. Element i of the list will be the number of bananas that trainer i (counting from 0) starts with.\n",
    "\n",
    "The number of trainers will be at least 1 and not more than 100, and the number of bananas each trainer starts with will be a positive integer no more than 1073741823 (i.e. 2^30 -1). Some of them stockpile a LOT of bananas.\n",
    "\n",
    "\n",
    "-- Python cases --\n",
    "Input:\n",
    "solution.solution(1,1)\n",
    "Output:\n",
    "    2\n",
    "\n",
    "Input:\n",
    "solution.solution([1, 7, 3, 21, 13, 19])\n",
    "Output:\n",
    "    0"
   ]
  },
  {
   "cell_type": "code",
   "execution_count": 12,
   "id": "00ad6304",
   "metadata": {},
   "outputs": [],
   "source": [
    "import math\n",
    "\n",
    "def isEndless(a, b):\n",
    "    if a == b:\n",
    "        return False\n",
    "    \n",
    "    if (a + b) % 2 != 0:\n",
    "        return True\n",
    "    \n",
    "    d = abs(b - a)\n",
    "    a = min(a, b)\n",
    "    b = max(a, b)\n",
    "    \n",
    "    if d == a:  \n",
    "        return True\n",
    "    elif d > a:  \n",
    "        if d == 2*a:\n",
    "            return False\n",
    "        d = (b - a) / a\n",
    "        k = int(math.log(d + 1, 2))\n",
    "        b = b - (2 ** k - 1) * a\n",
    "        a = a * 2 ** k\n",
    "        if a == b:\n",
    "            return False\n",
    "        else:\n",
    "            return True \n",
    "    else:\n",
    "        a = 2 * a\n",
    "        b = b - a\n",
    "        return isEndless(a, b)\n",
    "    "
   ]
  },
  {
   "cell_type": "code",
   "execution_count": 68,
   "id": "39edbd04",
   "metadata": {},
   "outputs": [],
   "source": [
    "def delCol(col, matrix):\n",
    "    for row in range(len(matrix)):\n",
    "        del matrix[row][col]\n",
    "    return\n",
    "\n",
    "def getMinIdx(matrix):\n",
    "    idx1 = -1\n",
    "    minS = 1e20\n",
    "    for row in range(len(matrix)):\n",
    "        s = sum(matrix[row])\n",
    "        if s > 0 and s < minS:\n",
    "            idx1 = row\n",
    "            minS = s\n",
    "    if idx1 == -1:\n",
    "        return -1, -1     \n",
    "    else:\n",
    "        idx2 = matrix[idx1].index(1)  \n",
    "        return min(idx1, idx2), max(idx1, idx2)    "
   ]
  },
  {
   "cell_type": "code",
   "execution_count": 106,
   "id": "2516da12",
   "metadata": {},
   "outputs": [],
   "source": [
    "def solution(banana_list):\n",
    "    l = len(banana_list)\n",
    "    matrix = [[0] * l for i in range(l)]\n",
    "\n",
    "    for i in range(l):\n",
    "        for j in range(i+1, l):\n",
    "            f = int(isEndless(banana_list[i], banana_list[j]))\n",
    "            matrix[i][j] = f\n",
    "            matrix[j][i] = f\n",
    "\n",
    "    idx1, idx2 = getMinIdx(matrix)\n",
    "    while idx1 >= 0:\n",
    "        delCol(idx2, matrix)\n",
    "        delCol(idx1, matrix)\n",
    "        del matrix[idx2]\n",
    "        del matrix[idx1]\n",
    "        idx1, idx2 = getMinIdx(matrix)\n",
    "\n",
    "    return len(matrix)"
   ]
  },
  {
   "cell_type": "code",
   "execution_count": 107,
   "id": "0606f4e5",
   "metadata": {},
   "outputs": [
    {
     "data": {
      "text/plain": [
       "2"
      ]
     },
     "execution_count": 107,
     "metadata": {},
     "output_type": "execute_result"
    }
   ],
   "source": [
    "banana_list = [1, 1, 1, 5]\n",
    "solution(banana_list)"
   ]
  },
  {
   "cell_type": "code",
   "execution_count": 104,
   "id": "a40e5d0c",
   "metadata": {},
   "outputs": [],
   "source": [
    "import random\n",
    "\n",
    "# banana_list = [1, 1, 1, 5]\n",
    "banana_list = [1, 1]\n",
    "# banana_list = [1]\n",
    "# banana_list = [1, 7, 3, 21, 13, 19]\n",
    "# banana_list = [random.randint(0, 2**30) for i in range(100)]"
   ]
  },
  {
   "cell_type": "code",
   "execution_count": 105,
   "id": "f1892cbb",
   "metadata": {},
   "outputs": [
    {
     "data": {
      "text/plain": [
       "2"
      ]
     },
     "execution_count": 105,
     "metadata": {},
     "output_type": "execute_result"
    }
   ],
   "source": [
    "l = len(banana_list)\n",
    "matrix = [[0] * l for i in range(l)]\n",
    "\n",
    "for i in range(l):\n",
    "    for j in range(i+1, l):\n",
    "        f = int(isEndless(banana_list[i], banana_list[j]))\n",
    "        matrix[i][j] = f\n",
    "        matrix[j][i] = f\n",
    "\n",
    "idx1, idx2 = getMinIdx(matrix)\n",
    "while idx1 >= 0:\n",
    "    delCol(idx2, matrix)\n",
    "    delCol(idx1, matrix)\n",
    "    del matrix[idx2]\n",
    "    del matrix[idx1]\n",
    "    idx1, idx2 = getMinIdx(matrix)\n",
    "\n",
    "len(matrix)"
   ]
  },
  {
   "cell_type": "code",
   "execution_count": 26,
   "id": "5e6e3e6c",
   "metadata": {},
   "outputs": [
    {
     "data": {
      "text/plain": [
       "[]"
      ]
     },
     "execution_count": 26,
     "metadata": {},
     "output_type": "execute_result"
    }
   ],
   "source": [
    "matrix"
   ]
  },
  {
   "cell_type": "code",
   "execution_count": null,
   "id": "c36a8445",
   "metadata": {},
   "outputs": [],
   "source": []
  }
 ],
 "metadata": {
  "kernelspec": {
   "display_name": "Python 3 (ipykernel)",
   "language": "python",
   "name": "python3"
  },
  "language_info": {
   "codemirror_mode": {
    "name": "ipython",
    "version": 3
   },
   "file_extension": ".py",
   "mimetype": "text/x-python",
   "name": "python",
   "nbconvert_exporter": "python",
   "pygments_lexer": "ipython3",
   "version": "3.10.3"
  }
 },
 "nbformat": 4,
 "nbformat_minor": 5
}
