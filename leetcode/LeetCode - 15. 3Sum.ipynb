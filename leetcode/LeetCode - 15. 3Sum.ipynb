{
 "cells": [
  {
   "cell_type": "code",
   "execution_count": null,
   "id": "e586f869",
   "metadata": {},
   "outputs": [],
   "source": [
    "from collections import defaultdict\n",
    "\n",
    "class Solution:\n",
    "    def threeSum(self, nums: List[int]) -> List[List[int]]:\n",
    "        res = []\n",
    "        if len(nums) < 3:\n",
    "            return res\n",
    "\n",
    "        alphabet = {}\n",
    "        for elem in nums:\n",
    "            try:\n",
    "                alphabet[elem] += 1\n",
    "            except:\n",
    "                alphabet[elem] = 1\n",
    "\n",
    "        itemsA =  list(alphabet.items())\n",
    "        itemsA.sort()\n",
    "        \n",
    "        print(itemsA)\n",
    "        \n",
    "        for i in range(len(itemsA)):\n",
    "            elem_i, count_i = itemsA[i]\n",
    "            if elem_i == 0:\n",
    "                if count_i > 2:\n",
    "                    res.append([0,0,0])\n",
    "                elif count_i == 2:\n",
    "                    continue\n",
    "            elif elem_i > 0:\n",
    "                break\n",
    "            else:\n",
    "                i += int(count_i < 2)\n",
    "                for j in range(i,len(itemsA)):\n",
    "                    elem_j, count_j = itemsA[j]\n",
    "                    sumOfTwo = elem_i + elem_j\n",
    "                    if -sumOfTwo == elem_j:\n",
    "                        if count_j > 1:\n",
    "                            res.append([elem_i, elem_j, -sumOfTwo])\n",
    "                    elif -sumOfTwo < elem_j:\n",
    "                        break\n",
    "                    else:\n",
    "                        try:\n",
    "                            if alphabet[-sumOfTwo] > 0:\n",
    "                                res.append([elem_i, elem_j, -sumOfTwo])\n",
    "                        except:\n",
    "                            continue\n",
    "\n",
    "\n",
    "\n",
    "        return res"
   ]
  }
 ],
 "metadata": {
  "kernelspec": {
   "display_name": "Python 3 (ipykernel)",
   "language": "python",
   "name": "python3"
  },
  "language_info": {
   "codemirror_mode": {
    "name": "ipython",
    "version": 3
   },
   "file_extension": ".py",
   "mimetype": "text/x-python",
   "name": "python",
   "nbconvert_exporter": "python",
   "pygments_lexer": "ipython3",
   "version": "3.10.3"
  }
 },
 "nbformat": 4,
 "nbformat_minor": 5
}
