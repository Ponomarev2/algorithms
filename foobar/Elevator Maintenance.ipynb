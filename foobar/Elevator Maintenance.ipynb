{
 "cells": [
  {
   "cell_type": "code",
   "execution_count": 1,
   "id": "c75c873e",
   "metadata": {},
   "outputs": [
    {
     "data": {
      "text/plain": [
       "True"
      ]
     },
     "execution_count": 1,
     "metadata": {},
     "output_type": "execute_result"
    }
   ],
   "source": [
    "'1.0' > '1'\n",
    "'1.1.0' > '1.12'"
   ]
  },
  {
   "cell_type": "code",
   "execution_count": 32,
   "id": "f881fb39",
   "metadata": {},
   "outputs": [],
   "source": [
    "def versionToDigits(version):\n",
    "    digits = []\n",
    "    while '.' in version:\n",
    "        idx = version.index('.')\n",
    "        digit = int(version[:idx])\n",
    "        version = version[idx+1:]\n",
    "        digits.append(digit)\n",
    "    digits.append(int(version))\n",
    "    return digits \n",
    "    \n",
    "\n",
    "def compareVersions(versionA, versionB):\n",
    "    indefSyms = set(['.', '0'])\n",
    "    versionA = versionToDigits(versionA)\n",
    "    versionB = versionToDigits(versionB)\n",
    "    lenA = len(versionA)\n",
    "    lenB = len(versionB)\n",
    "    minLen = min(lenA, lenB)\n",
    "    for i in range(minLen):\n",
    "        if versionA[i] > versionB[i]:\n",
    "            return '>'\n",
    "        elif versionA[i] < versionB[i]:\n",
    "            return '<'\n",
    "        \n",
    "    if lenA > lenB:\n",
    "        return '>'\n",
    "    elif lenA < lenB:\n",
    "        return '<'\n",
    "    else:\n",
    "        return '='\n",
    "    \n",
    "def mergeV(arrA, arrB):\n",
    "    res = []\n",
    "    i = 0\n",
    "    j = 0\n",
    "    while i < len(arrA) and j < len(arrB):\n",
    "        if compareVersions(arrA[i], arrB[j]) == '<':\n",
    "            res.append(arrA[i])\n",
    "            i += 1\n",
    "        else:\n",
    "            res.append(arrB[j])\n",
    "            j += 1\n",
    "    return res + arrA[i:] + arrB[j:]\n",
    "        \n",
    "\n",
    "def mergeSortV(arr):\n",
    "    if len(arr) < 2:\n",
    "        return arr\n",
    "    sortedLeft = mergeSortV(arr[:len(arr)//2])\n",
    "    sortedRight = mergeSortV(arr[len(arr)//2:])\n",
    "    arr = mergeV(sortedLeft, sortedRight)\n",
    "    return arr\n",
    "\n",
    "def solution(arr):\n",
    "    return mergeSortV(arr)"
   ]
  },
  {
   "cell_type": "code",
   "execution_count": 33,
   "id": "6681bf5a",
   "metadata": {},
   "outputs": [
    {
     "data": {
      "text/plain": [
       "['1.0', '1.0.2', '1.0.12', '1.1.2', '1.3.3']"
      ]
     },
     "execution_count": 33,
     "metadata": {},
     "output_type": "execute_result"
    }
   ],
   "source": [
    "solution([\"1.1.2\", \"1.0\", \"1.3.3\", \"1.0.12\", \"1.0.2\"])"
   ]
  },
  {
   "cell_type": "code",
   "execution_count": 25,
   "id": "8bef502e",
   "metadata": {},
   "outputs": [
    {
     "data": {
      "text/plain": [
       "[2]"
      ]
     },
     "execution_count": 25,
     "metadata": {},
     "output_type": "execute_result"
    }
   ],
   "source": [
    "versionToDigits('2')"
   ]
  },
  {
   "cell_type": "code",
   "execution_count": 26,
   "id": "2b1075f5",
   "metadata": {},
   "outputs": [
    {
     "data": {
      "text/plain": [
       "'>'"
      ]
     },
     "execution_count": 26,
     "metadata": {},
     "output_type": "execute_result"
    }
   ],
   "source": [
    "compareVersions('1.0.0', '1.0')"
   ]
  },
  {
   "cell_type": "code",
   "execution_count": 14,
   "id": "21e574d5",
   "metadata": {},
   "outputs": [],
   "source": [
    "def merge(arrA, arrB):\n",
    "    res = []\n",
    "    i = 0\n",
    "    j = 0\n",
    "    while i < len(arrA) and j < len(arrB):\n",
    "        if arrA[i] < arrB[j]:\n",
    "            res.append(arrA[i])\n",
    "            i += 1\n",
    "        else:\n",
    "            res.append(arrB[j])\n",
    "            j += 1\n",
    "    return res + arrA[i:] + arrB[j:]\n",
    "        \n",
    "\n",
    "def mergeSort(arr):\n",
    "    if len(arr) < 2:\n",
    "        return arr\n",
    "    sortedLeft = mergeSort(arr[:len(arr)//2])\n",
    "    sortedRight = mergeSort(arr[len(arr)//2:])\n",
    "    arr = merge(sortedLeft, sortedRight)\n",
    "    return arr"
   ]
  },
  {
   "cell_type": "code",
   "execution_count": 16,
   "id": "48b8c32b",
   "metadata": {},
   "outputs": [
    {
     "data": {
      "text/plain": [
       "[-5, 0, 1, 2, 53, 254]"
      ]
     },
     "execution_count": 16,
     "metadata": {},
     "output_type": "execute_result"
    }
   ],
   "source": [
    "arr = [254, 0, -5, 53,1,2]\n",
    "mergeSort(arr)"
   ]
  }
 ],
 "metadata": {
  "kernelspec": {
   "display_name": "Python 3 (ipykernel)",
   "language": "python",
   "name": "python3"
  },
  "language_info": {
   "codemirror_mode": {
    "name": "ipython",
    "version": 3
   },
   "file_extension": ".py",
   "mimetype": "text/x-python",
   "name": "python",
   "nbconvert_exporter": "python",
   "pygments_lexer": "ipython3",
   "version": "3.10.3"
  }
 },
 "nbformat": 4,
 "nbformat_minor": 5
}
